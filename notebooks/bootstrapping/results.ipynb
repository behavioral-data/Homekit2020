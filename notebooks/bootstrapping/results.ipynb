{
 "cells": [
  {
   "cell_type": "code",
   "execution_count": 1,
   "id": "554d5eca",
   "metadata": {},
   "outputs": [
    {
     "name": "stdout",
     "output_type": "stream",
     "text": [
      "['#1f77b4', '#ff7f0e', '#2ca02c', '#d62728', '#9467bd', '#8c564b', '#e377c2', '#7f7f7f', '#bcbd22', '#17becf']\n"
     ]
    }
   ],
   "source": [
    "import pandas as pd\n",
    "import os\n",
    "from random import choices\n",
    "import numpy as np\n",
    "from sklearn.metrics import precision_recall_curve, roc_auc_score, average_precision_score\n",
    "from tqdm.notebook import tqdm\n",
    "from src.utils import download_table, get_wandb_summaries\n",
    "from src.data.utils import download_wandb_table\n",
    "import wandb\n",
    "from pprint import pprint\n",
    "import matplotlib.pyplot as plt\n",
    "import json\n",
    "import re\n",
    "import seaborn as sns\n",
    "\n",
    "import matplotlib.patches as mpatches\n",
    "from src.data.hierarchical_bootstrapping import hierarchical_bootstrapping\n",
    "sns.color_palette\n",
    "\n",
    "colors = sns.color_palette().as_hex()\n",
    "print(colors)"
   ]
  },
  {
   "cell_type": "code",
   "execution_count": 2,
   "id": "637ab418",
   "metadata": {},
   "outputs": [],
   "source": [
    "api = wandb.Api()\n",
    "\n",
    "def search_experiments(model=\"CNNToTransformerClassifier\", task=\"PredictFluPos\", notes=\"hourly temporal split\", _n_runs=5):\n",
    "    \"\"\"\n",
    "    returns experiments ids that match a given a model name, task, and notes. Should return one entry per run (i.e. 5)\n",
    "    \"\"\"\n",
    "    query = api.runs(\n",
    "                     \n",
    "            path=\"bdata/ICML-2023-Flu-Dataset\",\n",
    "#             path=\"safranchik/mobs\",\n",
    "            filters={\"summary_metrics.model\": model, \"summary_metrics.task\": task, \"notes\": notes},\n",
    "            order=\"+summary_metrics.pl_seed\"\n",
    "    )\n",
    "    if len(query) != 5:\n",
    "        print(\"{}-{} with notes \\\"{}\\\" has length {}\".format(model, task, notes, len(query)))\n",
    "\n",
    "    return query\n"
   ]
  },
  {
   "cell_type": "code",
   "execution_count": 3,
   "id": "be8f1c49",
   "metadata": {},
   "outputs": [
    {
     "name": "stderr",
     "output_type": "stream",
     "text": [
      "\u001b[34m\u001b[1mwandb\u001b[0m:   1 of 1 files downloaded.  \n",
      "\u001b[34m\u001b[1mwandb\u001b[0m:   1 of 1 files downloaded.  \n",
      "\u001b[34m\u001b[1mwandb\u001b[0m:   1 of 1 files downloaded.  \n",
      "\u001b[34m\u001b[1mwandb\u001b[0m:   1 of 1 files downloaded.  \n",
      "\u001b[34m\u001b[1mwandb\u001b[0m:   1 of 1 files downloaded.  \n"
     ]
    },
    {
     "data": {
      "application/vnd.jupyter.widget-view+json": {
       "model_id": "83530f37451d489a9e4fed8bd2f3ff92",
       "version_major": 2,
       "version_minor": 0
      },
      "text/plain": [
       "  0%|          | 0/10 [00:00<?, ?it/s]"
      ]
     },
     "metadata": {},
     "output_type": "display_data"
    },
    {
     "name": "stderr",
     "output_type": "stream",
     "text": [
      "\u001b[34m\u001b[1mwandb\u001b[0m:   1 of 1 files downloaded.  \n",
      "\u001b[34m\u001b[1mwandb\u001b[0m:   1 of 1 files downloaded.  \n",
      "\u001b[34m\u001b[1mwandb\u001b[0m:   1 of 1 files downloaded.  \n",
      "\u001b[34m\u001b[1mwandb\u001b[0m:   1 of 1 files downloaded.  \n",
      "\u001b[34m\u001b[1mwandb\u001b[0m:   1 of 1 files downloaded.  \n"
     ]
    },
    {
     "data": {
      "application/vnd.jupyter.widget-view+json": {
       "model_id": "d12fd5e4d5204797a2a3e6f94ef83101",
       "version_major": 2,
       "version_minor": 0
      },
      "text/plain": [
       "  0%|          | 0/10 [00:00<?, ?it/s]"
      ]
     },
     "metadata": {},
     "output_type": "display_data"
    },
    {
     "name": "stderr",
     "output_type": "stream",
     "text": [
      "\u001b[34m\u001b[1mwandb\u001b[0m:   1 of 1 files downloaded.  \n",
      "\u001b[34m\u001b[1mwandb\u001b[0m:   1 of 1 files downloaded.  \n",
      "\u001b[34m\u001b[1mwandb\u001b[0m:   1 of 1 files downloaded.  \n",
      "\u001b[34m\u001b[1mwandb\u001b[0m:   1 of 1 files downloaded.  \n",
      "\u001b[34m\u001b[1mwandb\u001b[0m:   1 of 1 files downloaded.  \n"
     ]
    },
    {
     "data": {
      "application/vnd.jupyter.widget-view+json": {
       "model_id": "d8c3fecd967d49f3b8566dc06f651300",
       "version_major": 2,
       "version_minor": 0
      },
      "text/plain": [
       "  0%|          | 0/10 [00:00<?, ?it/s]"
      ]
     },
     "metadata": {},
     "output_type": "display_data"
    },
    {
     "name": "stderr",
     "output_type": "stream",
     "text": [
      "\u001b[34m\u001b[1mwandb\u001b[0m:   1 of 1 files downloaded.  \n",
      "\u001b[34m\u001b[1mwandb\u001b[0m:   1 of 1 files downloaded.  \n",
      "\u001b[34m\u001b[1mwandb\u001b[0m:   1 of 1 files downloaded.  \n",
      "\u001b[34m\u001b[1mwandb\u001b[0m:   1 of 1 files downloaded.  \n",
      "\u001b[34m\u001b[1mwandb\u001b[0m:   1 of 1 files downloaded.  \n"
     ]
    },
    {
     "data": {
      "application/vnd.jupyter.widget-view+json": {
       "model_id": "e9eef534c8e24a31b99888a32baf32a7",
       "version_major": 2,
       "version_minor": 0
      },
      "text/plain": [
       "  0%|          | 0/10 [00:00<?, ?it/s]"
      ]
     },
     "metadata": {},
     "output_type": "display_data"
    },
    {
     "name": "stderr",
     "output_type": "stream",
     "text": [
      "\u001b[34m\u001b[1mwandb\u001b[0m:   1 of 1 files downloaded.  \n",
      "\u001b[34m\u001b[1mwandb\u001b[0m:   1 of 1 files downloaded.  \n",
      "\u001b[34m\u001b[1mwandb\u001b[0m:   1 of 1 files downloaded.  \n",
      "\u001b[34m\u001b[1mwandb\u001b[0m:   1 of 1 files downloaded.  \n",
      "\u001b[34m\u001b[1mwandb\u001b[0m:   1 of 1 files downloaded.  \n"
     ]
    },
    {
     "data": {
      "application/vnd.jupyter.widget-view+json": {
       "model_id": "e20d00d0310740d0882c96465520d82d",
       "version_major": 2,
       "version_minor": 0
      },
      "text/plain": [
       "  0%|          | 0/10 [00:00<?, ?it/s]"
      ]
     },
     "metadata": {},
     "output_type": "display_data"
    },
    {
     "name": "stderr",
     "output_type": "stream",
     "text": [
      "\u001b[34m\u001b[1mwandb\u001b[0m:   1 of 1 files downloaded.  \n",
      "\u001b[34m\u001b[1mwandb\u001b[0m:   1 of 1 files downloaded.  \n",
      "\u001b[34m\u001b[1mwandb\u001b[0m:   1 of 1 files downloaded.  \n",
      "\u001b[34m\u001b[1mwandb\u001b[0m:   1 of 1 files downloaded.  \n",
      "\u001b[34m\u001b[1mwandb\u001b[0m:   1 of 1 files downloaded.  \n"
     ]
    },
    {
     "data": {
      "application/vnd.jupyter.widget-view+json": {
       "model_id": "66633ca176444f6d8ab060f0f6c473ec",
       "version_major": 2,
       "version_minor": 0
      },
      "text/plain": [
       "  0%|          | 0/10 [00:00<?, ?it/s]"
      ]
     },
     "metadata": {},
     "output_type": "display_data"
    },
    {
     "data": {
      "image/png": "[encoded data removed]",
      "text/plain": [
       "<Figure size 1440x720 with 4 Axes>"
      ]
     },
     "metadata": {
      "needs_background": "light"
     },
     "output_type": "display_data"
    }
   ],
   "source": [
    "metrics = [roc_auc_score, average_precision_score]\n",
    "\n",
    "# format: model name, notes, label, color\n",
    "models = [\n",
    "            (\"CNNToTransformerClassifier\", \"temporal split\", \"CNN-Transformer\", colors[0]),\n",
    "#             (\"CNNToTransformerClassifier\", \"user split\", \"CNN-Transformer\", colors[0]),\n",
    "          \n",
    "#             (\"CNNClassifier\", \"temporal split\", \"CNN\", colors[1]),\n",
    "#             (\"CNNClassifier\", \"user split\", \"CNN\", colors[1]),\n",
    "#             (\"CNNClassifier\", \"hourly temporal split\", \"CNN (hourly)\", colors[2]),\n",
    "#             (\"CNNClassifier\", \"hourly user split\", \"CNN (hourly)\", colors[2]),\n",
    "          \n",
    "            (\"TransformerClassifier\", \"hourly temporal split\", \"Transformer (hourly)\", colors[3]),\n",
    "#             (\"TransformerClassifier\", \"hourly user split\", \"Transformer (hourly)\", colors[3]),          \n",
    "          \n",
    "#             (\"XGBoostClassifier\", \"daily temporal split\", \"XGBoost (daily)\", colors[4]),\n",
    "#             (\"XGBoostClassifier\", \"daily user split\", \"XGBoost (daily)\", colors[4])\n",
    "        ]            \n",
    "\n",
    "tasks = [\"HomekitPredictFluPos\", \"HomekitPredictFatigue\", \"HomekitPredictCough\"]\n",
    "task_names = [\"Flu Pos\", \"Fatigue\", \"Cough\"]\n",
    "assert len(tasks) == len(task_names)\n",
    "\n",
    "splits = [\"user\", \"temporal\"]\n",
    "\n",
    "\n",
    "fig, ax = plt.subplots(2, 2)\n",
    "fig.set_size_inches(20, 10)\n",
    "\n",
    "# width of bar charts\n",
    "width = 0.2\n",
    "\n",
    "def get_prediction_tables(run_ids):\n",
    "    tables = []\n",
    "    for run_id in run_ids:\n",
    "        try:\n",
    "#         tables.append(download_wandb_table(run_id.id, table_name=\"test_predictions\", entity=\"safranchik/bdata\", project=\"ICML-2023-Flu-Dataset\"))\n",
    "            # TODO: pull runs from the bdata/Homekit project \n",
    "            tables.append(download_wandb_table(run_id.id, table_name=\"test_predictions\", entity=\"safranchik\", project=\"mobs\"))    \n",
    "        except:\n",
    "            continue\n",
    "    return tables\n",
    "\n",
    "\n",
    "# download_wandb_table(run_id.id, table_name=\"test_predictions\", entity=\"bdata\", project=\"ICML-2023-Flu-Dataset/runs\")\n",
    "\n",
    "\n",
    "data = {\"temporal\": {\"roc_auc_score\": {}, \"average_precision_score\": {}},\n",
    "        \"user\": {\"roc_auc_score\": {}, \"average_precision_score\": {}}}\n",
    "\n",
    "\"\"\" fills out the nested data dictionary \"\"\"\n",
    "for j, task in enumerate(tasks):\n",
    "    for k, (model, note, label, _) in enumerate(models):\n",
    "\n",
    "        split = \"temporal\" if \"temporal\" in note else \"user\"\n",
    "        \n",
    "        run_ids = search_experiments(model, task, note)\n",
    "        tables = get_prediction_tables(run_ids)\n",
    "\n",
    "        if not isinstance(tables, float) and not len(tables):\n",
    "            continue\n",
    "            \n",
    "        # TODO: change model bootstraps to 40 and data bootstraps to 10\n",
    "        # 40 model bootstraps lets us discard the bottom and top outliers to obtain a 95% CI\n",
    "        bootstraps = hierarchical_bootstrapping(tables, num_bootstraps=10, metrics=metrics)\n",
    "            \n",
    "        for l, metric in enumerate(metrics):\n",
    "\n",
    "            bootstraps_list = bootstraps[metric.__name__]\n",
    "            metric_mean = np.mean(bootstraps_list)\n",
    "            metric_err = np.abs(np.percentile(bootstraps_list, (0.975, 0.025)) - metric_mean)\n",
    "\n",
    "            model_name = model + \"_({})\".format(note)\n",
    "            if model_name not in data[split][metric.__name__]:\n",
    "                data[split][metric.__name__][model_name] = {t: (0,(0,0)) for t in tasks}\n",
    "                \n",
    "            data[split][metric.__name__][model_name][task] = (metric_mean, metric_err)\n",
    "         \n",
    "\"\"\" plots the nested data dictionary \"\"\"\n",
    "for i, split in enumerate(splits):\n",
    "    for l, metric in enumerate(metrics):\n",
    "        \n",
    "        ticks = [j + (len(tasks)-1) * width / 2 for j in range(len(tasks))]\n",
    "\n",
    "        ax[i, l].set_xticks(ticks=ticks, labels=task_names)\n",
    "        ax[i, l].set_title(\"{} split ({})\".format(split, metric.__name__))\n",
    "        ax[i, l].grid(axis='y', which=\"both\")\n",
    "\n",
    "        for k, (model, note, label, color) in enumerate(models):\n",
    "            model_name = model + \"_({})\".format(note)\n",
    "\n",
    "            if model_name in data[split][metric.__name__]:\n",
    "                \n",
    "                task_scores = [data[split][metric.__name__][model_name][t][0] for t in tasks]\n",
    "\n",
    "                lower_err = [data[split][metric.__name__][model_name][t][1][0] for t in tasks]\n",
    "                upper_err = [data[split][metric.__name__][model_name][t][1][1] for t in tasks]\n",
    "\n",
    "                x = np.arange(len(tasks)) + k * width\n",
    "                ax[i, l].bar(x=x, height=task_scores, width=width, yerr=(upper_err, lower_err), color=color)\n",
    "\n",
    "            \n",
    "fig.tight_layout()\n",
    "\n",
    "handles = [mpatches.Patch(label=m[0], color=m[-1]) for m in models]\n",
    "\n",
    "labels = [m[2] for m in models]\n",
    "\n",
    "fig.legend(handles, labels)\n",
    "\n",
    "fig_name = \"big_bar_plot.pdf\"\n",
    "\n",
    "fig.savefig(fig_name, bbox_inches='tight', format=\"pdf\")"
   ]
  },
  {
   "cell_type": "code",
   "execution_count": null,
   "id": "b9a03e89",
   "metadata": {},
   "outputs": [],
   "source": []
  },
  {
   "cell_type": "code",
   "execution_count": null,
   "id": "e3a6b415",
   "metadata": {},
   "outputs": [],
   "source": []
  }
 ],
 "metadata": {
  "kernelspec": {
   "display_name": "Python 3 (ipykernel)",
   "language": "python",
   "name": "python3"
  },
  "language_info": {
   "codemirror_mode": {
    "name": "ipython",
    "version": 3
   },
   "file_extension": ".py",
   "mimetype": "text/x-python",
   "name": "python",
   "nbconvert_exporter": "python",
   "pygments_lexer": "ipython3",
   "version": "3.9.12"
  }
 },
 "nbformat": 4,
 "nbformat_minor": 5
}
