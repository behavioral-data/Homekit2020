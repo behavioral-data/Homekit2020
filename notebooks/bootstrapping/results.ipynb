{
 "cells": [
  {
   "cell_type": "code",
   "execution_count": 1,
   "id": "554d5eca",
   "metadata": {},
   "outputs": [
    {
     "name": "stdout",
     "output_type": "stream",
     "text": [
      "['#1f77b4', '#ff7f0e', '#2ca02c', '#d62728', '#9467bd', '#8c564b', '#e377c2', '#7f7f7f', '#bcbd22', '#17becf']\n"
     ]
    }
   ],
   "source": [
    "import pandas as pd\n",
    "import os\n",
    "from random import choices\n",
    "import numpy as np\n",
    "from sklearn.metrics import precision_recall_curve, roc_auc_score, average_precision_score\n",
    "from tqdm.notebook import tqdm\n",
    "from src.utils import download_table, get_wandb_summaries\n",
    "from src.data.utils import load_json, download_wandb_table\n",
    "import wandb\n",
    "from pprint import pprint\n",
    "import matplotlib.pyplot as plt\n",
    "import json\n",
    "import re\n",
    "import seaborn as sns\n",
    "import collections\n",
    "import glob \n",
    "\n",
    "import matplotlib.patches as mpatches\n",
    "from src.data.hierarchical_bootstrapping import hierarchical_bootstrapping, bootstrapping\n",
    "sns.color_palette\n",
    "\n",
    "colors = sns.color_palette().as_hex()\n",
    "print(colors)"
   ]
  },
  {
   "cell_type": "code",
   "execution_count": 2,
   "id": "637ab418",
   "metadata": {},
   "outputs": [],
   "source": [
    "api = wandb.Api()\n",
    "\n",
    "def search_experiments(model=\"CNNToTransformerClassifier\", task=\"PredictFluPos\", notes=\"hourly temporal split\", tags=\"pretrained\", _n_runs=5):\n",
    "    \"\"\"\n",
    "    returns experiments ids that match a given a model name, task, and notes. Should return one entry per run (i.e. 5)\n",
    "    \"\"\"\n",
    "    \n",
    "    filters={\"summary_metrics.model\": model, \"summary_metrics.task\": task, \"notes\": notes}\n",
    "    \n",
    "    if tags is not None:\n",
    "        if isinstance(tags, dict) and \"not\" in tags:\n",
    "            tags = {\"$not\": tags[\"not\"]}\n",
    "        filters[\"tags\"] = tags\n",
    "    \n",
    "    query = api.runs(\n",
    "            path=\"bdata/ICML-2023-Flu-Dataset\",\n",
    "            filters=filters,\n",
    "            order=\"+summary_metrics.pl_seed\"\n",
    "    )\n",
    "\n",
    "    return query"
   ]
  },
  {
   "cell_type": "code",
   "execution_count": 3,
   "id": "0ba8987f",
   "metadata": {},
   "outputs": [],
   "source": [
    "def get_prediction_tables(run_ids, entities=[\"mikeamerrill\",\"safranchik\"], projects=[\"ICML-2023-Flu-Dataset\", \"mobs\"], no_mobs=False):\n",
    "    if no_mobs:\n",
    "        projects = [\"ICML-2023-Flu-Dataset\"]\n",
    "    tables = []\n",
    "    for run_id in run_ids:\n",
    "        for entity in entities:\n",
    "            for project in projects:\n",
    "                # TODO: pull runs from the bdata/Homekit project \n",
    "                try:\n",
    "                    tables.append(download_wandb_table(run_id.id, table_name=\"test_predictions\", entity=entity, project=project))\n",
    "                except:\n",
    "                    continue\n",
    "    return tables"
   ]
  },
  {
   "cell_type": "code",
   "execution_count": 55,
   "id": "098489f8",
   "metadata": {},
   "outputs": [
    {
     "data": {
      "image/png": "[encoded data removed]",
      "text/plain": [
       "<Figure size 1440x720 with 8 Axes>"
      ]
     },
     "metadata": {
      "needs_background": "light"
     },
     "output_type": "display_data"
    }
   ],
   "source": [
    "\n",
    "def to_subplot_ix(m, s, t):\n",
    "    subplot_ix = (t + int(t/6) + 1)\n",
    "    if m == 1:\n",
    "        subplot_ix += 2 * len(tasks) + 1\n",
    "    if s == 1:\n",
    "        subplot_ix += len(tasks) + 1\n",
    "    return subplot_ix\n",
    "\n",
    "# initializes subplots\n",
    "for s in [0, 1]:\n",
    "    for m in [0, 1]:\n",
    "        for t in range(len(tasks)):\n",
    "            plt.subplot(2, 2*len(tasks)+1, to_subplot_ix(m, s, t))\n",
    "            plt.xlim(-0.05, 1.05)\n",
    "            "
   ]
  },
  {
   "cell_type": "code",
   "execution_count": 58,
   "id": "be8f1c49",
   "metadata": {
    "scrolled": true
   },
   "outputs": [
    {
     "name": "stderr",
     "output_type": "stream",
     "text": [
      "\u001b[34m\u001b[1mwandb\u001b[0m:   1 of 1 files downloaded.  \n",
      "\u001b[34m\u001b[1mwandb\u001b[0m:   1 of 1 files downloaded.  \n",
      "\u001b[34m\u001b[1mwandb\u001b[0m:   1 of 1 files downloaded.  \n",
      "\u001b[34m\u001b[1mwandb\u001b[0m:   1 of 1 files downloaded.  \n",
      "\u001b[34m\u001b[1mwandb\u001b[0m:   1 of 1 files downloaded.  \n"
     ]
    },
    {
     "data": {
      "application/vnd.jupyter.widget-view+json": {
       "model_id": "5950ce5916924f91a3f2be90aa02f949",
       "version_major": 2,
       "version_minor": 0
      },
      "text/plain": [
       "  0%|          | 0/10 [00:00<?, ?it/s]"
      ]
     },
     "metadata": {},
     "output_type": "display_data"
    },
    {
     "name": "stderr",
     "output_type": "stream",
     "text": [
      "\u001b[34m\u001b[1mwandb\u001b[0m:   1 of 1 files downloaded.  \n",
      "\u001b[34m\u001b[1mwandb\u001b[0m:   1 of 1 files downloaded.  \n",
      "\u001b[34m\u001b[1mwandb\u001b[0m:   1 of 1 files downloaded.  \n",
      "\u001b[34m\u001b[1mwandb\u001b[0m:   1 of 1 files downloaded.  \n",
      "\u001b[34m\u001b[1mwandb\u001b[0m:   1 of 1 files downloaded.  \n"
     ]
    },
    {
     "data": {
      "application/vnd.jupyter.widget-view+json": {
       "model_id": "e0ee4e095a3b4ee89b78b41b28021b69",
       "version_major": 2,
       "version_minor": 0
      },
      "text/plain": [
       "  0%|          | 0/10 [00:00<?, ?it/s]"
      ]
     },
     "metadata": {},
     "output_type": "display_data"
    },
    {
     "name": "stderr",
     "output_type": "stream",
     "text": [
      "\u001b[34m\u001b[1mwandb\u001b[0m:   1 of 1 files downloaded.  \n",
      "\u001b[34m\u001b[1mwandb\u001b[0m:   1 of 1 files downloaded.  \n",
      "\u001b[34m\u001b[1mwandb\u001b[0m:   1 of 1 files downloaded.  \n",
      "\u001b[34m\u001b[1mwandb\u001b[0m:   1 of 1 files downloaded.  \n",
      "\u001b[34m\u001b[1mwandb\u001b[0m:   1 of 1 files downloaded.  \n"
     ]
    },
    {
     "data": {
      "application/vnd.jupyter.widget-view+json": {
       "model_id": "e720034210fc471fbb5d14fa69bcebef",
       "version_major": 2,
       "version_minor": 0
      },
      "text/plain": [
       "  0%|          | 0/10 [00:00<?, ?it/s]"
      ]
     },
     "metadata": {},
     "output_type": "display_data"
    },
    {
     "name": "stderr",
     "output_type": "stream",
     "text": [
      "\u001b[34m\u001b[1mwandb\u001b[0m:   1 of 1 files downloaded.  \n",
      "\u001b[34m\u001b[1mwandb\u001b[0m:   1 of 1 files downloaded.  \n",
      "\u001b[34m\u001b[1mwandb\u001b[0m:   1 of 1 files downloaded.  \n",
      "\u001b[34m\u001b[1mwandb\u001b[0m:   1 of 1 files downloaded.  \n",
      "\u001b[34m\u001b[1mwandb\u001b[0m:   1 of 1 files downloaded.  \n"
     ]
    },
    {
     "data": {
      "application/vnd.jupyter.widget-view+json": {
       "model_id": "d796da465708453f860950a8bae2e06e",
       "version_major": 2,
       "version_minor": 0
      },
      "text/plain": [
       "  0%|          | 0/10 [00:00<?, ?it/s]"
      ]
     },
     "metadata": {},
     "output_type": "display_data"
    },
    {
     "name": "stderr",
     "output_type": "stream",
     "text": [
      "\u001b[34m\u001b[1mwandb\u001b[0m:   1 of 1 files downloaded.  \n",
      "\u001b[34m\u001b[1mwandb\u001b[0m:   1 of 1 files downloaded.  \n",
      "\u001b[34m\u001b[1mwandb\u001b[0m:   1 of 1 files downloaded.  \n",
      "\u001b[34m\u001b[1mwandb\u001b[0m:   1 of 1 files downloaded.  \n",
      "\u001b[34m\u001b[1mwandb\u001b[0m:   1 of 1 files downloaded.  \n"
     ]
    },
    {
     "data": {
      "application/vnd.jupyter.widget-view+json": {
       "model_id": "153235fe5ea44385bab46df01989e6be",
       "version_major": 2,
       "version_minor": 0
      },
      "text/plain": [
       "  0%|          | 0/10 [00:00<?, ?it/s]"
      ]
     },
     "metadata": {},
     "output_type": "display_data"
    },
    {
     "name": "stderr",
     "output_type": "stream",
     "text": [
      "\u001b[34m\u001b[1mwandb\u001b[0m:   1 of 1 files downloaded.  \n",
      "\u001b[34m\u001b[1mwandb\u001b[0m:   1 of 1 files downloaded.  \n",
      "\u001b[34m\u001b[1mwandb\u001b[0m:   1 of 1 files downloaded.  \n",
      "\u001b[34m\u001b[1mwandb\u001b[0m:   1 of 1 files downloaded.  \n",
      "\u001b[34m\u001b[1mwandb\u001b[0m:   1 of 1 files downloaded.  \n"
     ]
    },
    {
     "data": {
      "application/vnd.jupyter.widget-view+json": {
       "model_id": "11b9afb504a441d5a65e42866d712c39",
       "version_major": 2,
       "version_minor": 0
      },
      "text/plain": [
       "  0%|          | 0/10 [00:00<?, ?it/s]"
      ]
     },
     "metadata": {},
     "output_type": "display_data"
    },
    {
     "name": "stderr",
     "output_type": "stream",
     "text": [
      "\u001b[34m\u001b[1mwandb\u001b[0m:   1 of 1 files downloaded.  \n",
      "\u001b[34m\u001b[1mwandb\u001b[0m:   1 of 1 files downloaded.  \n",
      "\u001b[34m\u001b[1mwandb\u001b[0m:   1 of 1 files downloaded.  \n",
      "\u001b[34m\u001b[1mwandb\u001b[0m:   1 of 1 files downloaded.  \n",
      "\u001b[34m\u001b[1mwandb\u001b[0m:   1 of 1 files downloaded.  \n"
     ]
    },
    {
     "data": {
      "application/vnd.jupyter.widget-view+json": {
       "model_id": "310dc1936bec46428d7ca55438e6228e",
       "version_major": 2,
       "version_minor": 0
      },
      "text/plain": [
       "  0%|          | 0/10 [00:00<?, ?it/s]"
      ]
     },
     "metadata": {},
     "output_type": "display_data"
    },
    {
     "name": "stderr",
     "output_type": "stream",
     "text": [
      "\u001b[34m\u001b[1mwandb\u001b[0m:   1 of 1 files downloaded.  \n",
      "\u001b[34m\u001b[1mwandb\u001b[0m:   1 of 1 files downloaded.  \n",
      "\u001b[34m\u001b[1mwandb\u001b[0m:   1 of 1 files downloaded.  \n",
      "\u001b[34m\u001b[1mwandb\u001b[0m:   1 of 1 files downloaded.  \n",
      "\u001b[34m\u001b[1mwandb\u001b[0m:   1 of 1 files downloaded.  \n"
     ]
    },
    {
     "data": {
      "application/vnd.jupyter.widget-view+json": {
       "model_id": "d3f74587d881438da47122b1f65a6a2e",
       "version_major": 2,
       "version_minor": 0
      },
      "text/plain": [
       "  0%|          | 0/10 [00:00<?, ?it/s]"
      ]
     },
     "metadata": {},
     "output_type": "display_data"
    },
    {
     "data": {
      "image/png": "[encoded data removed]",
      "text/plain": [
       "<Figure size 432x288 with 8 Axes>"
      ]
     },
     "metadata": {
      "needs_background": "light"
     },
     "output_type": "display_data"
    }
   ],
   "source": [
    "fig = plt.gcf()\n",
    "\n",
    "fig.set_size_inches(30, 20)\n",
    "\n",
    "metrics = [roc_auc_score, average_precision_score]\n",
    "metric_names = [\"AUROC\", \"PR-AUC\"]\n",
    "\n",
    "# format: model name, notes, label, color\n",
    "models = [\n",
    "#             (\"CNNToTransformerClassifier\", \"temporal split\", {\"not\": \"pretrained\"}, {\"label\": \"CNN-Transformer\", \"color\": colors[0], \"marker\":'s'}, 0),\n",
    "#             (\"CNNToTransformerClassifier\", \"user split\", {\"not\": \"pretrained\"}, {\"label\": \"CNN-Transformer\", \"color\": colors[0], \"marker\":'s'}, 0),\n",
    "    \n",
    "          \n",
    "            (\"CNNClassifier\", \"temporal split\", None, {\"label\": \"CNN\", \"color\": colors[1], \"marker\": \"s\"}, 1),\n",
    "            (\"CNNClassifier\", \"user split\", None, {\"label\": \"CNN\", \"color\": colors[1], \"marker\": \"s\"}, 1),\n",
    "            (\"CNNClassifier\", \"hourly temporal split\", None, {\"label\": \"CNN (hour)\", \"color\": colors[2], \"marker\": \"o\"}, 2),\n",
    "            (\"CNNClassifier\", \"hourly user split\", None, {\"label\": \"CNN (hour)\", \"color\": colors[2], \"marker\": \"o\"}, 2),\n",
    "          \n",
    "#             (\"TransformerClassifier\", \"hourly temporal split\", None, {\"label\": \"Transformer (hour)\", \"color\": colors[3], \"marker\": \"o\"}, 3),\n",
    "#             (\"TransformerClassifier\", \"hourly user split\", None, {\"label\": \"Transformer (hour)\", \"color\": colors[3], \"marker\": \"o\"}, 3),\n",
    "    \n",
    "#             (\"ResNet\", \"hourly temporal split\", None, {\"label\": \"ResNet (hour)\", \"color\": colors[6], \"marker\": \"o\"}, 4),\n",
    "#             (\"ResNet\", \"hourly user split\", None, {\"label\": \"ResNet (hour)\", \"color\": colors[6], \"marker\": \"o\"}, 4),     \n",
    "            \n",
    "#             (\"XGBoostClassifier\", \"hourly temporal split\", None, {\"label\": \"XGBoost (hour)\", \"color\": colors[5], \"marker\": 'o'}, 5),\n",
    "#             (\"XGBoostClassifier\", \"hourly user split\", None, {\"label\": \"XGBoost (hour)\", \"color\": colors[5], \"marker\": 'o'}, 5),\n",
    "    \n",
    "#             (\"XGBoostClassifier\", \"daily temporal split\", None, {\"label\": \"XGBoost (day)\", \"color\": colors[5], \"marker\": 'd'}),\n",
    "#             (\"XGBoostClassifier\", \"daily user split\", None, {\"label\": \"XGBoost (day)\", \"color\": colors[5], \"marker\": 'd'})\n",
    "        ]            \n",
    "\n",
    "tasks = [\"HomekitPredictFluPos\", \"HomekitPredictFatigue\", \"HomekitPredictCough\", \"HomekitPredictFluSymptoms\", \"HomekitPredictSevereFever\"]\n",
    "task_names = [\"Flu Pos\", \"Fatigue\", \"Cough\", \"Symptoms\", \"Fever\"]\n",
    "\n",
    "tasks = [\"HomekitPredictFluPos\", \"HomekitPredictFatigue\"]\n",
    "task_names = [\"Flu Pos\", \"Fatigue\"]\n",
    "\n",
    "assert len(tasks) == len(task_names)\n",
    "\n",
    "splits = [\"user\", \"temporal\"]\n",
    "\n",
    "\n",
    "# fig, axs = plt.subplots(2, 2 * len(tasks), sharex=True, sharey=True)\n",
    "# fig.set_size_inches(20, 10)\n",
    "\n",
    "data = {\"temporal\": {\"roc_auc_score\": {}, \"average_precision_score\": {}},\n",
    "        \"user\": {\"roc_auc_score\": {}, \"average_precision_score\": {}}}\n",
    "\n",
    "\n",
    "axis_splits = np.arange(len(tasks)+1)\n",
    "\n",
    "\n",
    "num_models = max(d[-1] for d in models)\n",
    "\n",
    "width = 1/(num_models+2)\n",
    "\n",
    "\n",
    "\n",
    "\n",
    "\"\"\" fills out the nested data dictionary \"\"\"\n",
    "for t, task in enumerate(tasks):\n",
    "    for k, (model, note, tags, kwargs, order) in enumerate(models):\n",
    "\n",
    "        s = 0 if \"temporal\" in note else 1\n",
    "        \n",
    "        run_ids = search_experiments(model, task, note, tags)\n",
    "        tables = get_prediction_tables(run_ids, no_mobs=(model==\"CNNToTransformerClassifier\"))\n",
    "        \n",
    "        if not isinstance(tables, list):\n",
    "            continue\n",
    "            \n",
    "        if len(tables) != 5:\n",
    "            print(\"{}-{} with note \\\"{}\\\" and tags \\\"{}\\\" has length {}\".format(model, task, note, tags, len(tables)))\n",
    "\n",
    "            continue\n",
    "\n",
    "        assert len(tables) == 5\n",
    "                    \n",
    "        # 40 model bootstraps lets us discard the bottom and top outliers to obtain a 95% CI\n",
    "        bootstraps = hierarchical_bootstrapping(tables, num_bootstraps=10, metrics=metrics)\n",
    "            \n",
    "        for m, metric in enumerate(metrics):\n",
    "\n",
    "            bootstraps_list = bootstraps[metric.__name__]\n",
    "            metric_mean = np.mean(bootstraps_list)\n",
    "            metric_err = np.abs(np.percentile(bootstraps_list, (0.975, 0.025)) - metric_mean)\n",
    "\n",
    "            x = (order+1) * width\n",
    "            plt.subplot(2, 2 * len(tasks) + 1, to_subplot_ix(m, s, t))\n",
    "            plt.errorbar(x=x, y=metric_mean,yerr=metric_err[:, None], markersize=10, capsize=10, **kwargs)\n",
    "    \n",
    "            \n",
    "fig.tight_layout()\n",
    "\n",
    "\n",
    "handles, labels = [], []\n",
    "\n",
    "for t, task_name in enumerate(task_names):\n",
    "    for note in [\"temporal\", \"user\"]:\n",
    "        for l, metric_name in enumerate(metric_names):\n",
    "            s = 0 if \"temporal\" in note else 1\n",
    "\n",
    "#             ticks = [(axis_splits[i] + axis_splits[i+1])/2 for i in np.arange(len(axis_splits)-1)]\n",
    "    #             ticks = [1 + j + (len(tasks)-1) * width / 2 for j in range(len(tasks))]\n",
    "\n",
    "            plt.subplot(2, 2 * len(tasks) + 1, to_subplot_ix(m, s, t))\n",
    "            plt.xlim(-0.05, 1.05)\n",
    "            \n",
    "#             ax = axs[l, split * len(tasks) + j]\n",
    "    \n",
    "            plt.title(\"{} ({})\".format(metric_name, note))\n",
    "            plt.xticks(ticks=[0.5], labels=[task_name])\n",
    "\n",
    "    #         for ax_split in axis_splits:\n",
    "    #             ax[split, l].axvline(ax_split, color=\"gray\")\n",
    "\n",
    "            handle, label =  plt.gca().get_legend_handles_labels()\n",
    "\n",
    "            handles.extend(handle)\n",
    "            labels.extend(label)\n",
    "\n",
    "\n",
    "for handle in handles:\n",
    "    handle.has_yerr = False\n",
    "plot_dict = collections.OrderedDict(zip(labels, handles))\n",
    "\n",
    "# fig.legend(handles, labels, loc=\"lower center\", bbox_to_anchor=(0.5, -0.05), ncols=10)\n",
    "fig.legend(plot_dict.values(), plot_dict.keys(),  loc=\"lower center\", bbox_to_anchor=(0.5, -0.05), ncols=10)\n",
    "\n",
    "fig_name = \"error_bar.pdf\"\n",
    "plt.tight_layout()\n",
    "\n",
    "fig.savefig(fig_name, bbox_inches='tight', format=\"pdf\")"
   ]
  },
  {
   "cell_type": "code",
   "execution_count": 5,
   "id": "91541814",
   "metadata": {},
   "outputs": [
    {
     "name": "stderr",
     "output_type": "stream",
     "text": [
      "\u001b[34m\u001b[1mwandb\u001b[0m:   1 of 1 files downloaded.  \n",
      "\u001b[34m\u001b[1mwandb\u001b[0m:   1 of 1 files downloaded.  \n",
      "\u001b[34m\u001b[1mwandb\u001b[0m:   1 of 1 files downloaded.  \n",
      "\u001b[34m\u001b[1mwandb\u001b[0m:   1 of 1 files downloaded.  \n",
      "\u001b[34m\u001b[1mwandb\u001b[0m:   1 of 1 files downloaded.  \n"
     ]
    }
   ],
   "source": [
    "run_ids = search_experiments(\"CNNClassifier\", \"HomekitPredictFluPos\", \"temporal split\", None)\n",
    "tables = get_prediction_tables(run_ids)"
   ]
  },
  {
   "cell_type": "code",
   "execution_count": 11,
   "id": "8a5a3f54",
   "metadata": {},
   "outputs": [
    {
     "data": {
      "application/vnd.jupyter.widget-view+json": {
       "model_id": "74455ef2e87c4af28ac824d8a0c9cb53",
       "version_major": 2,
       "version_minor": 0
      },
      "text/plain": [
       "  0%|          | 0/20 [00:00<?, ?it/s]"
      ]
     },
     "metadata": {},
     "output_type": "display_data"
    },
    {
     "data": {
      "application/vnd.jupyter.widget-view+json": {
       "model_id": "4ee0daa2140c433f8953a93fb8a205c0",
       "version_major": 2,
       "version_minor": 0
      },
      "text/plain": [
       "  0%|          | 0/20 [00:00<?, ?it/s]"
      ]
     },
     "metadata": {},
     "output_type": "display_data"
    },
    {
     "data": {
      "application/vnd.jupyter.widget-view+json": {
       "model_id": "f5bd1eadd3924a4db1149f85d50aaef5",
       "version_major": 2,
       "version_minor": 0
      },
      "text/plain": [
       "  0%|          | 0/20 [00:00<?, ?it/s]"
      ]
     },
     "metadata": {},
     "output_type": "display_data"
    },
    {
     "data": {
      "application/vnd.jupyter.widget-view+json": {
       "model_id": "22533901fa284746ba42ada843b5cd0b",
       "version_major": 2,
       "version_minor": 0
      },
      "text/plain": [
       "  0%|          | 0/20 [00:00<?, ?it/s]"
      ]
     },
     "metadata": {},
     "output_type": "display_data"
    },
    {
     "data": {
      "application/vnd.jupyter.widget-view+json": {
       "model_id": "5779d5614250426e86182dee81006bd4",
       "version_major": 2,
       "version_minor": 0
      },
      "text/plain": [
       "  0%|          | 0/20 [00:00<?, ?it/s]"
      ]
     },
     "metadata": {},
     "output_type": "display_data"
    },
    {
     "data": {
      "application/vnd.jupyter.widget-view+json": {
       "model_id": "2ed823a7bef74ad4b3f0f5f19fc1922a",
       "version_major": 2,
       "version_minor": 0
      },
      "text/plain": [
       "  0%|          | 0/20 [00:00<?, ?it/s]"
      ]
     },
     "metadata": {},
     "output_type": "display_data"
    },
    {
     "name": "stderr",
     "output_type": "stream",
     "text": [
      "/var/folders/k6/j81s9_qs5hq011qsxpgddgsr0000gn/T/ipykernel_40276/982355999.py:15: VisibleDeprecationWarning: Creating an ndarray from ragged nested sequences (which is a list-or-tuple of lists-or-tuples-or ndarrays with different lengths or shapes) is deprecated. If you meant to do this, you must specify 'dtype=object' when creating the ndarray.\n",
      "  sns.violinplot(np.array([bst_ci, model_ci, hier_ci]))\n"
     ]
    },
    {
     "data": {
      "image/png": "[encoded data removed]",
      "text/plain": [
       "<Figure size 432x288 with 1 Axes>"
      ]
     },
     "metadata": {
      "needs_background": "light"
     },
     "output_type": "display_data"
    }
   ],
   "source": [
    "from sklearn.metrics import RocCurveDisplay\n",
    "from sklearn.metrics import precision_recall_curve, roc_auc_score, average_precision_score, roc_curve\n",
    "import seaborn as sns\n",
    "\n",
    "bst_ci = []\n",
    "for table in tables:\n",
    "    bst_ci.append(bootstrapping(table, metrics=[roc_auc_score], num_bootstraps=20)[\"roc_auc_score\"])\n",
    "bst_ci = np.hstack(bst_ci)\n",
    "\n",
    "model_ci = [roc_auc_score(t[\"label\"], t[\"pred\"]) for t in tables]\n",
    "\n",
    "hier_ci = hierarchical_bootstrapping(tables, metrics=[roc_auc_score], num_bootstraps=20)[\"roc_auc_score\"]\n",
    "\n",
    "plt.grid(axis=\"y\")\n",
    "sns.violinplot(np.array([bst_ci, model_ci, hier_ci]))\n",
    "plt.ylabel(\"AUROC\")\n",
    "plt.xticks(ticks=[0, 1, 2], labels=[\"bootstrapping\", \"n=5 models\", \"hier. bootstrapping\\nn=5 models\"])\n",
    "plt.title(\"Flu Pos (temporal) - CNN-Transformer\")\n",
    "\n",
    "plt.tight_layout()\n",
    "\n",
    "plt.savefig(\"violin_plots.pdf\", bbox_inches='tight', format=\"pdf\")"
   ]
  },
  {
   "cell_type": "code",
   "execution_count": 131,
   "id": "cc7cc343",
   "metadata": {},
   "outputs": [
    {
     "name": "stderr",
     "output_type": "stream",
     "text": [
      "\u001b[34m\u001b[1mwandb\u001b[0m:   1 of 1 files downloaded.  \n",
      "\u001b[34m\u001b[1mwandb\u001b[0m:   1 of 1 files downloaded.  \n",
      "\u001b[34m\u001b[1mwandb\u001b[0m:   1 of 1 files downloaded.  \n",
      "\u001b[34m\u001b[1mwandb\u001b[0m:   1 of 1 files downloaded.  \n",
      "\u001b[34m\u001b[1mwandb\u001b[0m:   1 of 1 files downloaded.  \n"
     ]
    },
    {
     "data": {
      "application/vnd.jupyter.widget-view+json": {
       "model_id": "fb3dd3e3f66947e6bb67dcb7144e3d7c",
       "version_major": 2,
       "version_minor": 0
      },
      "text/plain": [
       "  0%|          | 0/5 [00:00<?, ?it/s]"
      ]
     },
     "metadata": {},
     "output_type": "display_data"
    },
    {
     "data": {
      "application/vnd.jupyter.widget-view+json": {
       "model_id": "23b1fa987dc4430f89f1cf7b06c07015",
       "version_major": 2,
       "version_minor": 0
      },
      "text/plain": [
       "  0%|          | 0/5 [00:00<?, ?it/s]"
      ]
     },
     "metadata": {},
     "output_type": "display_data"
    },
    {
     "data": {
      "application/vnd.jupyter.widget-view+json": {
       "model_id": "8475cc8ddc064419a0eb8babde44eec0",
       "version_major": 2,
       "version_minor": 0
      },
      "text/plain": [
       "  0%|          | 0/5 [00:00<?, ?it/s]"
      ]
     },
     "metadata": {},
     "output_type": "display_data"
    },
    {
     "data": {
      "application/vnd.jupyter.widget-view+json": {
       "model_id": "e97eba1bbdb143b29366e83474fe2b77",
       "version_major": 2,
       "version_minor": 0
      },
      "text/plain": [
       "  0%|          | 0/5 [00:00<?, ?it/s]"
      ]
     },
     "metadata": {},
     "output_type": "display_data"
    },
    {
     "data": {
      "application/vnd.jupyter.widget-view+json": {
       "model_id": "38816a0025614817990a9e87a95485a1",
       "version_major": 2,
       "version_minor": 0
      },
      "text/plain": [
       "  0%|          | 0/5 [00:00<?, ?it/s]"
      ]
     },
     "metadata": {},
     "output_type": "display_data"
    },
    {
     "data": {
      "application/vnd.jupyter.widget-view+json": {
       "model_id": "64ff6b6fd93443cda9aad4b43d9048e0",
       "version_major": 2,
       "version_minor": 0
      },
      "text/plain": [
       "  0%|          | 0/5 [00:00<?, ?it/s]"
      ]
     },
     "metadata": {},
     "output_type": "display_data"
    },
    {
     "name": "stderr",
     "output_type": "stream",
     "text": [
      "/var/folders/k6/j81s9_qs5hq011qsxpgddgsr0000gn/T/ipykernel_19732/409529285.py:20: VisibleDeprecationWarning: Creating an ndarray from ragged nested sequences (which is a list-or-tuple of lists-or-tuples-or ndarrays with different lengths or shapes) is deprecated. If you meant to do this, you must specify 'dtype=object' when creating the ndarray.\n",
      "  sns.violinplot(np.array([bst_ci, model_ci, hier_ci]))\n"
     ]
    },
    {
     "data": {
      "text/plain": [
       "Text(0.5, 1.0, 'Flu Pos (temporal) - CNN-Transformer')"
      ]
     },
     "execution_count": 131,
     "metadata": {},
     "output_type": "execute_result"
    },
    {
     "data": {
      "image/png": "[encoded data removed]",
      "text/plain": [
       "<Figure size 432x288 with 1 Axes>"
      ]
     },
     "metadata": {
      "needs_background": "light"
     },
     "output_type": "display_data"
    }
   ],
   "source": [
    "run_ids = search_experiments(\"CNNClassifier\", \"HomekitPredictCough\", \"temporal split\", None)\n",
    "tables = get_prediction_tables(run_ids)\n",
    "\n",
    "from sklearn.metrics import RocCurveDisplay\n",
    "from sklearn.metrics import precision_recall_curve, roc_auc_score, average_precision_score, roc_curve\n",
    "import seaborn as sns\n",
    "\n",
    "bst_ci = []\n",
    "for table in tables:\n",
    "    bst_ci.append(bootstrapping(table, metrics=[roc_auc_score], num_bootstraps=5)[\"roc_auc_score\"])\n",
    "bst_ci = np.hstack(bst_ci)\n",
    "\n",
    "\n",
    "model_ci = [roc_auc_score(t[\"label\"], t[\"pred\"]) for t in tables]\n",
    "\n",
    "hier_ci = hierarchical_bootstrapping(tables, metrics=[roc_auc_score], num_bootstraps=5)[\"roc_auc_score\"]\n",
    "\n",
    "\n",
    "plt.grid(axis=\"y\")\n",
    "sns.violinplot(np.array([bst_ci, model_ci, hier_ci]))\n",
    "plt.ylabel(\"AUROC\")\n",
    "plt.xticks(ticks=[0, 1, 2], labels=[\"reg. bootstrapping\", \"model CI\", \"hier. bootstrapping\"])\n",
    "plt.title(\"Flu Pos (temporal) - CNN-Transformer\")"
   ]
  },
  {
   "cell_type": "code",
   "execution_count": 10,
   "id": "8104f957",
   "metadata": {},
   "outputs": [],
   "source": [
    "def bootstrapping(table, metrics=None, num_bootstraps=100):\n",
    "    \"\"\"\n",
    "    Performs a hierarchical bootstrapping of the given prediction tables\n",
    "    :param tables: list of prediction tables for all n models\n",
    "    :param metrics: list of metrics to compute hierarchical bootstrapping over\n",
    "    :param model_bootstraps: number of times to resample with replacement from the models\n",
    "    :param model_bootstraps: number of times to resample with replacement from the predictions\n",
    "    :return: nested dictionary with mean and 95% CI for the bootstrapped metrics\n",
    "    \"\"\"\n",
    "\n",
    "    if metrics is None:\n",
    "        metrics = [roc_auc_score, average_precision_score]\n",
    "\n",
    "    final_scores = {m.__name__: [] for m in metrics}\n",
    "\n",
    "    for _ in tqdm(range(num_bootstraps)):\n",
    "\n",
    "\n",
    "        len_data = len(table)\n",
    "\n",
    "        # samples with replacement from data\n",
    "        resampled_data_indices = np.random.choice(np.arange(len_data), len_data, replace=True)\n",
    "\n",
    "        bootstrapped_preds = table.iloc[resampled_data_indices]\n",
    "        labels = bootstrapped_preds[\"label\"].to_numpy(int)\n",
    "        preds = bootstrapped_preds[\"pred\"].to_numpy()\n",
    "\n",
    "        for ix, metric in enumerate(metrics):\n",
    "            final_scores[metric.__name__].append(metric(labels, preds))\n",
    "\n",
    "    return final_scores"
   ]
  },
  {
   "cell_type": "code",
   "execution_count": 12,
   "id": "8aa40e2c",
   "metadata": {},
   "outputs": [
    {
     "data": {
      "text/plain": [
       "<AxesSubplot: >"
      ]
     },
     "execution_count": 12,
     "metadata": {},
     "output_type": "execute_result"
    },
    {
     "data": {
      "image/png": "[encoded data removed]",
      "text/plain": [
       "<Figure size 432x288 with 2 Axes>"
      ]
     },
     "metadata": {
      "needs_background": "light"
     },
     "output_type": "display_data"
    }
   ],
   "source": [
    "plt.subplot(2, 3, 1)\n",
    "plt.subplot(2, 3, 3)"
   ]
  },
  {
   "cell_type": "code",
   "execution_count": null,
   "id": "35ea8011",
   "metadata": {},
   "outputs": [],
   "source": [
    "split into 4 quadrants\n",
    "title "
   ]
  }
 ],
 "metadata": {
  "kernelspec": {
   "display_name": "Python 3 (ipykernel)",
   "language": "python",
   "name": "python3"
  },
  "language_info": {
   "codemirror_mode": {
    "name": "ipython",
    "version": 3
   },
   "file_extension": ".py",
   "mimetype": "text/x-python",
   "name": "python",
   "nbconvert_exporter": "python",
   "pygments_lexer": "ipython3",
   "version": "3.9.12"
  }
 },
 "nbformat": 4,
 "nbformat_minor": 5
}
