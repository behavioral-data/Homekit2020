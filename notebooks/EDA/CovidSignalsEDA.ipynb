{
 "cells": [
  {
   "cell_type": "code",
   "execution_count": 2,
   "metadata": {},
   "outputs": [],
   "source": [
    "import vaex\n",
    "import json\n",
    "import pandas as pd\n",
    "from tqdm import tqdm\n",
    "from src.utils import read_yaml\n",
    "from src.data.make_dataset import explode_str_column, get_new_index, safe_loc\n",
    "from src.data.utils import  process_minute_level_pandas"
   ]
  },
  {
   "cell_type": "code",
   "execution_count": 3,
   "metadata": {},
   "outputs": [],
   "source": [
    "public_participants = read_yaml(\"/projects/bdata/datasets/gatesfoundation/processed/COVID_Signals/covidsignals_synapse_consent.yaml\")\n",
    "SURVEY_REGEX = \"/projects/bdata/datasets/gatesfoundation/raw/COVID_Signals/*/all_other_datafiles/survey/daily/*.parquet\"\n",
    "daily_surveys = vaex.open(SURVEY_REGEX).to_pandas_df()\n",
    "daily_surveys[\"participant_id\"] = daily_surveys[\"id_participant_external\"]"
   ]
  },
  {
   "cell_type": "code",
   "execution_count": 6,
   "metadata": {},
   "outputs": [],
   "source": [
    "daily_surveys[\"timestamp\"] = daily_surveys[\"tm_start\"]\n",
    "daily_surveys_consented = daily_surveys[daily_surveys[\"id_participant_external\"].astype(int).isin(set(public_participants))]\n",
    "daily_surveys_consented.to_csv(\"/projects/bdata/datasets/gatesfoundation/processed/COVID_Signals/daily_surveys.csv\",index=False)"
   ]
  },
  {
   "cell_type": "code",
   "execution_count": 8,
   "metadata": {},
   "outputs": [
    {
     "data": {
      "text/plain": [
       "0     019616\n",
       "2     056076\n",
       "3     056076\n",
       "4     082767\n",
       "5     103308\n",
       "6     109987\n",
       "7     127041\n",
       "8     139209\n",
       "9     149059\n",
       "10    169793\n",
       "Name: id_participant_external, dtype: object"
      ]
     },
     "execution_count": 8,
     "metadata": {},
     "output_type": "execute_result"
    }
   ],
   "source": [
    "daily_surveys_consented['id_participant_external'].head(10)"
   ]
  },
  {
   "cell_type": "code",
   "execution_count": 5,
   "metadata": {},
   "outputs": [],
   "source": [
    "WEEKLY_SURVEY_REGEX = \"/projects/bdata/datasets/gatesfoundation/raw/COVID_Signals/*/all_other_datafiles/survey/weekly/*.parquet\"\n",
    "weekly_surveys = vaex.open(WEEKLY_SURVEY_REGEX).to_pandas_df()\n",
    "weekly_surveys_consented = weekly_surveys[weekly_surveys[\"id_participant_external\"].astype(int).isin(set(public_participants))]\n",
    "weekly_surveys[\"participant_id\"] = weekly_surveys[\"id_participant_external\"]\n",
    "weekly_surveys_consented.to_csv(\"/projects/bdata/datasets/gatesfoundation/processed/COVID_Signals/weekly_surveys.csv\",index=False)"
   ]
  },
  {
   "cell_type": "code",
   "execution_count": null,
   "metadata": {},
   "outputs": [
    {
     "data": {
      "text/plain": [
       "1      2020-11-30\n",
       "2      2020-12-10\n",
       "3      2020-12-22\n",
       "4      2020-12-21\n",
       "5             NaT\n",
       "          ...    \n",
       "7384          NaT\n",
       "7385          NaT\n",
       "7386          NaT\n",
       "7388   2021-03-25\n",
       "7389   2021-04-08\n",
       "Name: date_of_test_kit_completion, Length: 6702, dtype: datetime64[ns]"
      ]
     },
     "execution_count": 36,
     "metadata": {},
     "output_type": "execute_result"
    }
   ],
   "source": [
    "pd.to_datetime(weekly_surveys_consented[\"date_of_test_kit_completion\"].str.split(\"|\").str[-1],errors=\"coerce\")"
   ]
  },
  {
   "cell_type": "code",
   "execution_count": null,
   "metadata": {},
   "outputs": [
    {
     "data": {
      "text/plain": [
       "Timestamp('2025-01-21 00:00:00')"
      ]
     },
     "execution_count": 37,
     "metadata": {},
     "output_type": "execute_result"
    }
   ],
   "source": [
    "pd.to_datetime(\"21-01-25 00:00:00\")"
   ]
  },
  {
   "cell_type": "code",
   "execution_count": null,
   "metadata": {},
   "outputs": [
    {
     "ename": "NameError",
     "evalue": "name 'all_surveys' is not defined",
     "output_type": "error",
     "traceback": [
      "\u001b[0;31m---------------------------------------------------------------------------\u001b[0m",
      "\u001b[0;31mNameError\u001b[0m                                 Traceback (most recent call last)",
      "\u001b[1;32m/homes/gws/mikeam/MobileSensingSuite/notebooks/EDA/CovidSignalsEDA.ipynb Cell 8'\u001b[0m in \u001b[0;36m<cell line: 1>\u001b[0;34m()\u001b[0m\n\u001b[0;32m----> <a href='vscode-notebook-cell://ssh-remote%2Bquackerjack.cs.washington.edu/homes/gws/mikeam/MobileSensingSuite/notebooks/EDA/CovidSignalsEDA.ipynb#ch0000008vscode-remote?line=0'>1</a>\u001b[0m all_surveys\n",
      "\u001b[0;31mNameError\u001b[0m: name 'all_surveys' is not defined"
     ]
    }
   ],
   "source": [
    "all_surveys"
   ]
  },
  {
   "cell_type": "code",
   "execution_count": null,
   "metadata": {},
   "outputs": [],
   "source": [
    "LABS_REGEX = \"/projects/bdata/datasets/gatesfoundation/raw/COVID_Signals/*/all_other_datafiles/lab/lab_order_updates/*.parquet\"\n",
    "labs = vaex.open(LABS_REGEX).to_pandas_df()\n",
    "consented_labs = labs[labs[\"id_participant_external\"].astype(int).isin(set(public_participants))]\n",
    "consented_labs.to_csv(\"/projects/bdata/datasets/gatesfoundation/processed/COVID_Signals/labs.csv\")"
   ]
  },
  {
   "cell_type": "code",
   "execution_count": null,
   "metadata": {},
   "outputs": [
    {
     "data": {
      "text/html": [
       "<div>\n",
       "<style scoped>\n",
       "    .dataframe tbody tr th:only-of-type {\n",
       "        vertical-align: middle;\n",
       "    }\n",
       "\n",
       "    .dataframe tbody tr th {\n",
       "        vertical-align: top;\n",
       "    }\n",
       "\n",
       "    .dataframe thead th {\n",
       "        text-align: right;\n",
       "    }\n",
       "</style>\n",
       "<table border=\"1\" class=\"dataframe\">\n",
       "  <thead>\n",
       "    <tr style=\"text-align: right;\">\n",
       "      <th></th>\n",
       "      <th>id_participant_external</th>\n",
       "      <th>samples_received</th>\n",
       "      <th>approval_date</th>\n",
       "      <th>status</th>\n",
       "      <th>result</th>\n",
       "      <th>native_order_id</th>\n",
       "    </tr>\n",
       "  </thead>\n",
       "  <tbody>\n",
       "    <tr>\n",
       "      <th>0</th>\n",
       "      <td>424954</td>\n",
       "      <td>2020-12-30T00:44:51.028-05:00</td>\n",
       "      <td>2020-12-31T10:38:31.093-05:00</td>\n",
       "      <td>approved</td>\n",
       "      <td>Negative</td>\n",
       "      <td>195300</td>\n",
       "    </tr>\n",
       "    <tr>\n",
       "      <th>1</th>\n",
       "      <td>774964</td>\n",
       "      <td>2020-12-29T14:51:46.213-05:00</td>\n",
       "      <td>2020-12-31T11:13:32.818-05:00</td>\n",
       "      <td>approved</td>\n",
       "      <td>Negative</td>\n",
       "      <td>205705</td>\n",
       "    </tr>\n",
       "    <tr>\n",
       "      <th>2</th>\n",
       "      <td>307629</td>\n",
       "      <td>2020-12-30T12:09:16.513-05:00</td>\n",
       "      <td>2020-12-31T11:15:58.450-05:00</td>\n",
       "      <td>approved</td>\n",
       "      <td>Negative</td>\n",
       "      <td>188800</td>\n",
       "    </tr>\n",
       "    <tr>\n",
       "      <th>3</th>\n",
       "      <td>988260</td>\n",
       "      <td>2020-12-29T19:00:32.956-05:00</td>\n",
       "      <td>2020-12-31T10:28:03.078-05:00</td>\n",
       "      <td>approved</td>\n",
       "      <td>Positive</td>\n",
       "      <td>195632</td>\n",
       "    </tr>\n",
       "    <tr>\n",
       "      <th>4</th>\n",
       "      <td>248718</td>\n",
       "      <td>2020-12-30T12:52:09.374-05:00</td>\n",
       "      <td>2020-12-31T11:15:57.812-05:00</td>\n",
       "      <td>approved</td>\n",
       "      <td>Negative</td>\n",
       "      <td>186323</td>\n",
       "    </tr>\n",
       "    <tr>\n",
       "      <th>...</th>\n",
       "      <td>...</td>\n",
       "      <td>...</td>\n",
       "      <td>...</td>\n",
       "      <td>...</td>\n",
       "      <td>...</td>\n",
       "      <td>...</td>\n",
       "    </tr>\n",
       "    <tr>\n",
       "      <th>6564</th>\n",
       "      <td>935047</td>\n",
       "      <td>2021-04-08T11:33:30.646-04:00</td>\n",
       "      <td>2021-04-08T21:17:27.943-04:00</td>\n",
       "      <td>sent</td>\n",
       "      <td>Negative</td>\n",
       "      <td>208844</td>\n",
       "    </tr>\n",
       "    <tr>\n",
       "      <th>6565</th>\n",
       "      <td>935047</td>\n",
       "      <td>2021-04-01T10:32:11.476-04:00</td>\n",
       "      <td>2021-04-01T22:00:23.117-04:00</td>\n",
       "      <td>sent</td>\n",
       "      <td>Negative</td>\n",
       "      <td>208846</td>\n",
       "    </tr>\n",
       "    <tr>\n",
       "      <th>6566</th>\n",
       "      <td>290847</td>\n",
       "      <td>2021-03-26T10:48:33.437-04:00</td>\n",
       "      <td>2021-03-26T21:33:26.241-04:00</td>\n",
       "      <td>sent</td>\n",
       "      <td>Negative</td>\n",
       "      <td>234559</td>\n",
       "    </tr>\n",
       "    <tr>\n",
       "      <th>6567</th>\n",
       "      <td>290847</td>\n",
       "      <td>2021-03-26T10:48:33.437-04:00</td>\n",
       "      <td>2021-03-26T21:33:26.241-04:00</td>\n",
       "      <td>sent</td>\n",
       "      <td>Negative</td>\n",
       "      <td>234559</td>\n",
       "    </tr>\n",
       "    <tr>\n",
       "      <th>6568</th>\n",
       "      <td>792562</td>\n",
       "      <td>2021-04-16T10:59:47.265-04:00</td>\n",
       "      <td>2021-04-16T20:47:18.201-04:00</td>\n",
       "      <td>sent</td>\n",
       "      <td>Negative</td>\n",
       "      <td>250587</td>\n",
       "    </tr>\n",
       "  </tbody>\n",
       "</table>\n",
       "<p>6569 rows × 6 columns</p>\n",
       "</div>"
      ],
      "text/plain": [
       "     id_participant_external               samples_received  \\\n",
       "0                     424954  2020-12-30T00:44:51.028-05:00   \n",
       "1                     774964  2020-12-29T14:51:46.213-05:00   \n",
       "2                     307629  2020-12-30T12:09:16.513-05:00   \n",
       "3                     988260  2020-12-29T19:00:32.956-05:00   \n",
       "4                     248718  2020-12-30T12:52:09.374-05:00   \n",
       "...                      ...                            ...   \n",
       "6564                  935047  2021-04-08T11:33:30.646-04:00   \n",
       "6565                  935047  2021-04-01T10:32:11.476-04:00   \n",
       "6566                  290847  2021-03-26T10:48:33.437-04:00   \n",
       "6567                  290847  2021-03-26T10:48:33.437-04:00   \n",
       "6568                  792562  2021-04-16T10:59:47.265-04:00   \n",
       "\n",
       "                      approval_date    status    result native_order_id  \n",
       "0     2020-12-31T10:38:31.093-05:00  approved  Negative          195300  \n",
       "1     2020-12-31T11:13:32.818-05:00  approved  Negative          205705  \n",
       "2     2020-12-31T11:15:58.450-05:00  approved  Negative          188800  \n",
       "3     2020-12-31T10:28:03.078-05:00  approved  Positive          195632  \n",
       "4     2020-12-31T11:15:57.812-05:00  approved  Negative          186323  \n",
       "...                             ...       ...       ...             ...  \n",
       "6564  2021-04-08T21:17:27.943-04:00      sent  Negative          208844  \n",
       "6565  2021-04-01T22:00:23.117-04:00      sent  Negative          208846  \n",
       "6566  2021-03-26T21:33:26.241-04:00      sent  Negative          234559  \n",
       "6567  2021-03-26T21:33:26.241-04:00      sent  Negative          234559  \n",
       "6568  2021-04-16T20:47:18.201-04:00      sent  Negative          250587  \n",
       "\n",
       "[6569 rows x 6 columns]"
      ]
     },
     "execution_count": 40,
     "metadata": {},
     "output_type": "execute_result"
    }
   ],
   "source": [
    "labs"
   ]
  },
  {
   "cell_type": "code",
   "execution_count": null,
   "metadata": {},
   "outputs": [
    {
     "name": "stderr",
     "output_type": "stream",
     "text": [
      "/tmp/ipykernel_352837/4182606940.py:2: FutureWarning: Using .astype to convert from timezone-aware dtype to timezone-naive dtype is deprecated and will raise in a future version.  Use obj.tz_localize(None) or obj.tz_convert('UTC').tz_localize(None) instead\n",
      "  self_labs[\"date_received\"]=pd.to_datetime(self_labs[\"samples_received\"],utc=True).astype('<M8[ns]')\n",
      "/tmp/ipykernel_352837/4182606940.py:2: SettingWithCopyWarning: \n",
      "A value is trying to be set on a copy of a slice from a DataFrame.\n",
      "Try using .loc[row_indexer,col_indexer] = value instead\n",
      "\n",
      "See the caveats in the documentation: https://pandas.pydata.org/pandas-docs/stable/user_guide/indexing.html#returning-a-view-versus-a-copy\n",
      "  self_labs[\"date_received\"]=pd.to_datetime(self_labs[\"samples_received\"],utc=True).astype('<M8[ns]')\n",
      "/tmp/ipykernel_352837/4182606940.py:5: SettingWithCopyWarning: \n",
      "A value is trying to be set on a copy of a slice from a DataFrame.\n",
      "Try using .loc[row_indexer,col_indexer] = value instead\n",
      "\n",
      "See the caveats in the documentation: https://pandas.pydata.org/pandas-docs/stable/user_guide/indexing.html#returning-a-view-versus-a-copy\n",
      "  self_weekly_surveys[\"date_completed\"] = pd.to_datetime(weekly_surveys_consented[\"date_of_test_kit_completion\"].str.split(\"|\").str[-1],errors=\"coerce\")\n"
     ]
    }
   ],
   "source": [
    "\n",
    "self_labs = consented_labs\n",
    "self_labs[\"date_received\"]=pd.to_datetime(self_labs[\"samples_received\"],utc=True).astype('<M8[ns]')\n",
    "\n",
    "self_weekly_surveys = weekly_surveys_consented\n",
    "self_weekly_surveys[\"date_completed\"] = pd.to_datetime(weekly_surveys_consented[\"date_of_test_kit_completion\"].str.split(\"|\").str[-1],errors=\"coerce\")\n",
    "self_weekly_surveys = self_weekly_surveys.dropna(subset=[\"date_completed\"])"
   ]
  },
  {
   "cell_type": "code",
   "execution_count": null,
   "metadata": {},
   "outputs": [
    {
     "name": "stderr",
     "output_type": "stream",
     "text": [
      "/tmp/ipykernel_352837/3057129168.py:1: FutureWarning: Using .astype to convert from timezone-aware dtype to timezone-naive dtype is deprecated and will raise in a future version.  Use obj.tz_localize(None) or obj.tz_convert('UTC').tz_localize(None) instead\n",
      "  pd.to_datetime(self_labs[\"samples_received\"],utc=True).astype('<M8[ns]')\n"
     ]
    },
    {
     "data": {
      "text/plain": [
       "0      2020-12-30 05:44:51.028\n",
       "1      2020-12-29 19:51:46.213\n",
       "2      2020-12-30 17:09:16.513\n",
       "4      2020-12-30 17:52:09.374\n",
       "5      2020-12-30 02:38:59.189\n",
       "                 ...          \n",
       "6564   2021-04-08 15:33:30.646\n",
       "6565   2021-04-01 14:32:11.476\n",
       "6566   2021-03-26 14:48:33.437\n",
       "6567   2021-03-26 14:48:33.437\n",
       "6568   2021-04-16 14:59:47.265\n",
       "Name: samples_received, Length: 5975, dtype: datetime64[ns]"
      ]
     },
     "execution_count": 62,
     "metadata": {},
     "output_type": "execute_result"
    }
   ],
   "source": []
  },
  {
   "cell_type": "code",
   "execution_count": null,
   "metadata": {},
   "outputs": [],
   "source": [
    "results_and_surveys= pd.merge_asof(self_labs.sort_values(\"date_received\"),\n",
    "                                    self_weekly_surveys.sort_values(\"date_completed\"),\n",
    "                                    by=\"id_participant_external\",\n",
    "                                    left_on=\"date_received\",\n",
    "                                    right_on=\"date_completed\",\n",
    "                                    tolerance=pd.to_timedelta(\"7D\"),\n",
    "                                    direction=\"backward\")"
   ]
  },
  {
   "cell_type": "code",
   "execution_count": null,
   "metadata": {},
   "outputs": [
    {
     "data": {
      "text/plain": [
       "Index(['id_participant_external', 'samples_received', 'approval_date',\n",
       "       'status', 'result', 'native_order_id', 'date_received',\n",
       "       'survey_occurrence', 'response_status', 'tm_start',\n",
       "       ...\n",
       "       'number_of_hours_missed_due_to_health_problems',\n",
       "       'number_of_hours_missed_due_to_vacation_holidays',\n",
       "       'number_of_hours_actually_worked',\n",
       "       'health_problems_affect_on_productivity__',\n",
       "       'health_problems_affect_on_regular_daily_activities__',\n",
       "       'past_week_felt__in_the_last_week_how_often_have_you_felt_difficulties_were_piling_up_so_high_that_you_could_not_overcome_them_',\n",
       "       'past_week_felt__in_the_last_week_how_often_have_you_felt_that_you_were_unable_to_control_the_important_things_in_your_life_',\n",
       "       'past_week_felt__in_the_last_week_how_often_have_you_felt_confident_about_your_ability_to_handle_your_personal_problems_',\n",
       "       'past_week_felt__in_the_last_week_how_often_have_you_felt_that_things_were_going_your_way_',\n",
       "       'date_completed'],\n",
       "      dtype='object', length=115)"
      ]
     },
     "execution_count": 70,
     "metadata": {},
     "output_type": "execute_result"
    }
   ],
   "source": [
    "results_and_surveys.columns"
   ]
  },
  {
   "cell_type": "code",
   "execution_count": null,
   "metadata": {},
   "outputs": [
    {
     "data": {
      "text/html": [
       "<div>\n",
       "<style scoped>\n",
       "    .dataframe tbody tr th:only-of-type {\n",
       "        vertical-align: middle;\n",
       "    }\n",
       "\n",
       "    .dataframe tbody tr th {\n",
       "        vertical-align: top;\n",
       "    }\n",
       "\n",
       "    .dataframe thead th {\n",
       "        text-align: right;\n",
       "    }\n",
       "</style>\n",
       "<table border=\"1\" class=\"dataframe\">\n",
       "  <thead>\n",
       "    <tr style=\"text-align: right;\">\n",
       "      <th></th>\n",
       "      <th>date_completed</th>\n",
       "      <th>result</th>\n",
       "    </tr>\n",
       "  </thead>\n",
       "  <tbody>\n",
       "    <tr>\n",
       "      <th>109</th>\n",
       "      <td>2020-11-23</td>\n",
       "      <td>Negative</td>\n",
       "    </tr>\n",
       "    <tr>\n",
       "      <th>110</th>\n",
       "      <td>2020-11-23</td>\n",
       "      <td>Negative</td>\n",
       "    </tr>\n",
       "    <tr>\n",
       "      <th>113</th>\n",
       "      <td>2020-11-23</td>\n",
       "      <td>Negative</td>\n",
       "    </tr>\n",
       "    <tr>\n",
       "      <th>120</th>\n",
       "      <td>2020-11-24</td>\n",
       "      <td>Negative</td>\n",
       "    </tr>\n",
       "    <tr>\n",
       "      <th>131</th>\n",
       "      <td>2020-11-23</td>\n",
       "      <td>Negative</td>\n",
       "    </tr>\n",
       "    <tr>\n",
       "      <th>...</th>\n",
       "      <td>...</td>\n",
       "      <td>...</td>\n",
       "    </tr>\n",
       "    <tr>\n",
       "      <th>5968</th>\n",
       "      <td>2021-04-07</td>\n",
       "      <td>Negative</td>\n",
       "    </tr>\n",
       "    <tr>\n",
       "      <th>5969</th>\n",
       "      <td>2021-04-06</td>\n",
       "      <td>Negative</td>\n",
       "    </tr>\n",
       "    <tr>\n",
       "      <th>5971</th>\n",
       "      <td>2021-04-07</td>\n",
       "      <td>Negative</td>\n",
       "    </tr>\n",
       "    <tr>\n",
       "      <th>5972</th>\n",
       "      <td>2021-04-08</td>\n",
       "      <td>Negative</td>\n",
       "    </tr>\n",
       "    <tr>\n",
       "      <th>5973</th>\n",
       "      <td>2021-04-08</td>\n",
       "      <td>Negative</td>\n",
       "    </tr>\n",
       "  </tbody>\n",
       "</table>\n",
       "<p>4205 rows × 2 columns</p>\n",
       "</div>"
      ],
      "text/plain": [
       "     date_completed    result\n",
       "109      2020-11-23  Negative\n",
       "110      2020-11-23  Negative\n",
       "113      2020-11-23  Negative\n",
       "120      2020-11-24  Negative\n",
       "131      2020-11-23  Negative\n",
       "...             ...       ...\n",
       "5968     2021-04-07  Negative\n",
       "5969     2021-04-06  Negative\n",
       "5971     2021-04-07  Negative\n",
       "5972     2021-04-08  Negative\n",
       "5973     2021-04-08  Negative\n",
       "\n",
       "[4205 rows x 2 columns]"
      ]
     },
     "execution_count": 72,
     "metadata": {},
     "output_type": "execute_result"
    }
   ],
   "source": []
  },
  {
   "cell_type": "markdown",
   "metadata": {},
   "source": [
    "## Reformatting the raw Garmin Data from Covid Signals:"
   ]
  },
  {
   "cell_type": "code",
   "execution_count": null,
   "metadata": {},
   "outputs": [],
   "source": [
    "GARMIN_ACTIVITY_REGEX = \"/projects/bdata/datasets/gatesfoundation/raw/COVID_Signals/*/all_other_datafiles/garmin/activities/*.parquet\"\n",
    "garmin_activity = vaex.open(GARMIN_ACTIVITY_REGEX)"
   ]
  },
  {
   "cell_type": "code",
   "execution_count": null,
   "metadata": {},
   "outputs": [
    {
     "data": {
      "text/plain": [
       "['id_participant_external',\n",
       " 'startTimeInSeconds',\n",
       " 'startTimeOffsetInSeconds',\n",
       " 'activityType',\n",
       " 'durationInSeconds',\n",
       " 'averageHeartRateInBeatsPerMinute',\n",
       " 'averageRunCadenceInStepsPerMinute',\n",
       " 'averageSpeedInMetersPerSecond',\n",
       " 'averagePaceInMinutesPerKilometer',\n",
       " 'distanceInMeters',\n",
       " 'maxBikeCadenceInRoundsPerMinute',\n",
       " 'maxHeartRateInBeatsPerMinute',\n",
       " 'maxPaceInMinutesPerKilometer',\n",
       " 'maxRunCadenceInStepsPerMinute',\n",
       " 'maxSpeedInMetersPerSecond',\n",
       " 'numberOfActiveLengths',\n",
       " 'steps',\n",
       " 'totalElevationGainInMeters',\n",
       " 'totalElevationLossInMeters']"
      ]
     },
     "execution_count": 26,
     "metadata": {},
     "output_type": "execute_result"
    }
   ],
   "source": [
    "list(garmin_activity.columns)"
   ]
  },
  {
   "cell_type": "code",
   "execution_count": null,
   "metadata": {},
   "outputs": [
    {
     "data": {
      "text/plain": [
       "WALKING                          9250\n",
       "RUNNING                          4683\n",
       "INDOOR_CARDIO                    1315\n",
       "STRENGTH_TRAINING                 770\n",
       "OTHER                             352\n",
       "CYCLING                           294\n",
       "TREADMILL_RUNNING                 252\n",
       "YOGA                              238\n",
       "ELLIPTICAL                        211\n",
       "INDOOR_CYCLING                    125\n",
       "VIRTUAL_RIDE                       85\n",
       "ROAD_BIKING                        47\n",
       "LAP_SWIMMING                       39\n",
       "PILATES                            29\n",
       "HIKING                             21\n",
       "FITNESS_EQUIPMENT                  13\n",
       "STAIR_CLIMBING                     11\n",
       "INDOOR_ROWING                      10\n",
       "TRAIL_RUNNING                       9\n",
       "VIRTUAL_RUN                         9\n",
       "WINTER_SPORTS                       4\n",
       "RESORT_SKIING_SNOWBOARDING_WS       3\n",
       "CASUAL_WALKING                      2\n",
       "SNOW_SHOE_WS                        1\n",
       "INDOOR_RUNNING                      1\n",
       "RECUMBENT_CYCLING                   1\n",
       "BREATHWORK                          1\n",
       "MULTI_SPORT                         1\n",
       "SPEED_WALKING                       1\n",
       "E_SPORT                             1\n",
       "TENNIS                              1\n",
       "OPEN_WATER_SWIMMING                 1\n",
       "CROSS_COUNTRY_SKIING_WS             1\n",
       "dtype: int64"
      ]
     },
     "execution_count": 27,
     "metadata": {},
     "output_type": "execute_result"
    }
   ],
   "source": [
    "garmin_activity[\"activityType\"].value_counts()"
   ]
  },
  {
   "cell_type": "code",
   "execution_count": null,
   "metadata": {},
   "outputs": [
    {
     "data": {
      "text/plain": [
       "17789"
      ]
     },
     "execution_count": 28,
     "metadata": {},
     "output_type": "execute_result"
    }
   ],
   "source": [
    "len(garmin_activity)"
   ]
  },
  {
   "cell_type": "code",
   "execution_count": null,
   "metadata": {},
   "outputs": [
    {
     "data": {
      "text/plain": [
       "519"
      ]
     },
     "execution_count": 29,
     "metadata": {},
     "output_type": "execute_result"
    }
   ],
   "source": [
    "garmin_activity[\"id_participant_external\"].nunique()"
   ]
  },
  {
   "cell_type": "code",
   "execution_count": null,
   "metadata": {},
   "outputs": [
    {
     "data": {
      "text/plain": [
       "['id_participant_external',\n",
       " 'startTimeInSeconds',\n",
       " 'startTimeOffsetInSeconds',\n",
       " 'activityType',\n",
       " 'durationInSeconds',\n",
       " 'averageHeartRateInBeatsPerMinute',\n",
       " 'averageRunCadenceInStepsPerMinute',\n",
       " 'averageSpeedInMetersPerSecond',\n",
       " 'averagePaceInMinutesPerKilometer',\n",
       " 'distanceInMeters',\n",
       " 'maxBikeCadenceInRoundsPerMinute',\n",
       " 'maxHeartRateInBeatsPerMinute',\n",
       " 'maxPaceInMinutesPerKilometer',\n",
       " 'maxRunCadenceInStepsPerMinute',\n",
       " 'maxSpeedInMetersPerSecond',\n",
       " 'numberOfActiveLengths',\n",
       " 'steps',\n",
       " 'totalElevationGainInMeters',\n",
       " 'totalElevationLossInMeters']"
      ]
     },
     "execution_count": 30,
     "metadata": {},
     "output_type": "execute_result"
    }
   ],
   "source": [
    "garmin_activity.column_names"
   ]
  },
  {
   "cell_type": "code",
   "execution_count": null,
   "metadata": {},
   "outputs": [],
   "source": [
    "GARMIN_SLEEPS_REGEX = \"/projects/bdata/datasets/gatesfoundation/raw/COVID_Signals/*/all_other_datafiles/garmin/sleeps/*.parquet\"\n",
    "garmin_sleeps = vaex.open(GARMIN_SLEEPS_REGEX)"
   ]
  },
  {
   "cell_type": "code",
   "execution_count": null,
   "metadata": {},
   "outputs": [
    {
     "data": {
      "text/plain": [
       "['id_participant_external',\n",
       " 'calendarDate',\n",
       " 'startTimeInSeconds',\n",
       " 'startTimeOffsetInSeconds',\n",
       " 'durationInSeconds',\n",
       " 'unmeasurableSleepInSeconds',\n",
       " 'deepSleepDurationInSeconds',\n",
       " 'lightSleepDurationInSeconds',\n",
       " 'remSleepInSeconds',\n",
       " 'awakeDurationInSeconds',\n",
       " 'sleepLevelsMap',\n",
       " 'validation',\n",
       " 'timeOffsetSleepRespiration',\n",
       " 'timeOffsetSleepSpo2']"
      ]
     },
     "execution_count": 3,
     "metadata": {},
     "output_type": "execute_result"
    }
   ],
   "source": [
    "garmin_sleeps.column_names"
   ]
  },
  {
   "cell_type": "code",
   "execution_count": null,
   "metadata": {},
   "outputs": [],
   "source": [
    "garmin_sleeps = garmin_sleeps.to_pandas_df()"
   ]
  },
  {
   "cell_type": "code",
   "execution_count": null,
   "metadata": {},
   "outputs": [],
   "source": [
    "# Based off of the FitBit \"classic\" sleep api: https://dev.fitbit.com/build/reference/web-api/sleep/get-sleep-log-by-date/\n",
    "GARMIN_SLEEP_STAGE_MAP={\n",
    "    \"light\": 1,\n",
    "    \"deep\":2,\n",
    "    \"rem\":2,\n",
    "    \"awake\":3\n",
    "}"
   ]
  },
  {
   "cell_type": "code",
   "execution_count": null,
   "metadata": {},
   "outputs": [],
   "source": [
    "garmin_sleeps[\"sleepLevelsMap\"] = garmin_sleeps[\"sleepLevelsMap\"].map(json.loads)"
   ]
  },
  {
   "cell_type": "code",
   "execution_count": null,
   "metadata": {},
   "outputs": [],
   "source": [
    "exploded_sleep = (pd.melt(\n",
    "    pd.concat([garmin_sleeps,pd.json_normalize(garmin_sleeps[\"sleepLevelsMap\"])],axis=1),\n",
    "    id_vars=[\"id_participant_external\",\"startTimeOffsetInSeconds\"],\n",
    "    value_vars=[\"awake\",\"light\",\"rem\",\"deep\"],\n",
    "    var_name=\"sleep_type\"\n",
    "    ).explode(\"value\").dropna(subset=[\"value\"])\n",
    ")\n"
   ]
  },
  {
   "cell_type": "code",
   "execution_count": null,
   "metadata": {},
   "outputs": [],
   "source": [
    "processed_sleep = pd.concat([exploded_sleep.drop(columns=\"value\").reset_index(drop=True),pd.json_normalize(exploded_sleep[\"value\"])],axis=1)"
   ]
  },
  {
   "cell_type": "code",
   "execution_count": null,
   "metadata": {},
   "outputs": [],
   "source": [
    "processed_sleep[\"endTime\"] = pd.to_datetime(processed_sleep[\"endTimeInSeconds\"], unit=\"s\") + pd.to_timedelta(processed_sleep[\"startTimeOffsetInSeconds\"])\n",
    "processed_sleep[\"startTime\"] = pd.to_datetime(processed_sleep[\"startTimeInSeconds\"], unit=\"s\") + pd.to_timedelta(processed_sleep[\"startTimeOffsetInSeconds\"])\n",
    "processed_sleep[\"sleep_classic\"] = processed_sleep[\"sleep_type\"].map(GARMIN_SLEEP_STAGE_MAP) \n",
    "processed_sleep[\"id_participant_external\"] = processed_sleep[\"id_participant_external\"].astype(\"category\") \n",
    "processed_sleep[\"durationInSeconds\"] = (processed_sleep[\"endTime\"] - processed_sleep[\"startTime\"]).dt.seconds\n",
    "processed_sleep[\"timestamp\"] = processed_sleep[\"startTime\"] \n",
    "processed_sleep = processed_sleep.dropna().set_index(\"id_participant_external\")"
   ]
  },
  {
   "cell_type": "code",
   "execution_count": null,
   "metadata": {},
   "outputs": [
    {
     "data": {
      "text/html": [
       "<div>\n",
       "<style scoped>\n",
       "    .dataframe tbody tr th:only-of-type {\n",
       "        vertical-align: middle;\n",
       "    }\n",
       "\n",
       "    .dataframe tbody tr th {\n",
       "        vertical-align: top;\n",
       "    }\n",
       "\n",
       "    .dataframe thead th {\n",
       "        text-align: right;\n",
       "    }\n",
       "</style>\n",
       "<table border=\"1\" class=\"dataframe\">\n",
       "  <thead>\n",
       "    <tr style=\"text-align: right;\">\n",
       "      <th></th>\n",
       "      <th>startTimeOffsetInSeconds</th>\n",
       "      <th>sleep_type</th>\n",
       "      <th>endTimeInSeconds</th>\n",
       "      <th>startTimeInSeconds</th>\n",
       "      <th>endTime</th>\n",
       "      <th>startTime</th>\n",
       "      <th>sleep_classic</th>\n",
       "      <th>durationInSeconds</th>\n",
       "      <th>timestamp</th>\n",
       "    </tr>\n",
       "    <tr>\n",
       "      <th>id_participant_external</th>\n",
       "      <th></th>\n",
       "      <th></th>\n",
       "      <th></th>\n",
       "      <th></th>\n",
       "      <th></th>\n",
       "      <th></th>\n",
       "      <th></th>\n",
       "      <th></th>\n",
       "      <th></th>\n",
       "    </tr>\n",
       "  </thead>\n",
       "  <tbody>\n",
       "    <tr>\n",
       "      <th>108757</th>\n",
       "      <td>-21600</td>\n",
       "      <td>awake</td>\n",
       "      <td>1608625680</td>\n",
       "      <td>1608625320</td>\n",
       "      <td>2020-12-22 08:27:59.999978400</td>\n",
       "      <td>2020-12-22 08:21:59.999978400</td>\n",
       "      <td>3</td>\n",
       "      <td>360</td>\n",
       "      <td>2020-12-22 08:21:59.999978400</td>\n",
       "    </tr>\n",
       "    <tr>\n",
       "      <th>108757</th>\n",
       "      <td>-21600</td>\n",
       "      <td>awake</td>\n",
       "      <td>1608630420</td>\n",
       "      <td>1608630360</td>\n",
       "      <td>2020-12-22 09:46:59.999978400</td>\n",
       "      <td>2020-12-22 09:45:59.999978400</td>\n",
       "      <td>3</td>\n",
       "      <td>60</td>\n",
       "      <td>2020-12-22 09:45:59.999978400</td>\n",
       "    </tr>\n",
       "    <tr>\n",
       "      <th>108757</th>\n",
       "      <td>-21600</td>\n",
       "      <td>awake</td>\n",
       "      <td>1608630960</td>\n",
       "      <td>1608630540</td>\n",
       "      <td>2020-12-22 09:55:59.999978400</td>\n",
       "      <td>2020-12-22 09:48:59.999978400</td>\n",
       "      <td>3</td>\n",
       "      <td>420</td>\n",
       "      <td>2020-12-22 09:48:59.999978400</td>\n",
       "    </tr>\n",
       "    <tr>\n",
       "      <th>943285</th>\n",
       "      <td>-18000</td>\n",
       "      <td>awake</td>\n",
       "      <td>1608620220</td>\n",
       "      <td>1608619980</td>\n",
       "      <td>2020-12-22 06:56:59.999982000</td>\n",
       "      <td>2020-12-22 06:52:59.999982000</td>\n",
       "      <td>3</td>\n",
       "      <td>240</td>\n",
       "      <td>2020-12-22 06:52:59.999982000</td>\n",
       "    </tr>\n",
       "    <tr>\n",
       "      <th>682052</th>\n",
       "      <td>-18000</td>\n",
       "      <td>awake</td>\n",
       "      <td>1608636780</td>\n",
       "      <td>1608636720</td>\n",
       "      <td>2020-12-22 11:32:59.999982000</td>\n",
       "      <td>2020-12-22 11:31:59.999982000</td>\n",
       "      <td>3</td>\n",
       "      <td>60</td>\n",
       "      <td>2020-12-22 11:31:59.999982000</td>\n",
       "    </tr>\n",
       "    <tr>\n",
       "      <th>604242</th>\n",
       "      <td>-21600</td>\n",
       "      <td>awake</td>\n",
       "      <td>1608551340</td>\n",
       "      <td>1608551280</td>\n",
       "      <td>2020-12-21 11:48:59.999978400</td>\n",
       "      <td>2020-12-21 11:47:59.999978400</td>\n",
       "      <td>3</td>\n",
       "      <td>60</td>\n",
       "      <td>2020-12-21 11:47:59.999978400</td>\n",
       "    </tr>\n",
       "    <tr>\n",
       "      <th>604242</th>\n",
       "      <td>-21600</td>\n",
       "      <td>awake</td>\n",
       "      <td>1608551520</td>\n",
       "      <td>1608551460</td>\n",
       "      <td>2020-12-21 11:51:59.999978400</td>\n",
       "      <td>2020-12-21 11:50:59.999978400</td>\n",
       "      <td>3</td>\n",
       "      <td>60</td>\n",
       "      <td>2020-12-21 11:50:59.999978400</td>\n",
       "    </tr>\n",
       "    <tr>\n",
       "      <th>604242</th>\n",
       "      <td>-21600</td>\n",
       "      <td>awake</td>\n",
       "      <td>1608551940</td>\n",
       "      <td>1608551760</td>\n",
       "      <td>2020-12-21 11:58:59.999978400</td>\n",
       "      <td>2020-12-21 11:55:59.999978400</td>\n",
       "      <td>3</td>\n",
       "      <td>180</td>\n",
       "      <td>2020-12-21 11:55:59.999978400</td>\n",
       "    </tr>\n",
       "    <tr>\n",
       "      <th>604242</th>\n",
       "      <td>-21600</td>\n",
       "      <td>awake</td>\n",
       "      <td>1608552660</td>\n",
       "      <td>1608552600</td>\n",
       "      <td>2020-12-21 12:10:59.999978400</td>\n",
       "      <td>2020-12-21 12:09:59.999978400</td>\n",
       "      <td>3</td>\n",
       "      <td>60</td>\n",
       "      <td>2020-12-21 12:09:59.999978400</td>\n",
       "    </tr>\n",
       "    <tr>\n",
       "      <th>056076</th>\n",
       "      <td>-25200</td>\n",
       "      <td>awake</td>\n",
       "      <td>1608568380</td>\n",
       "      <td>1608568320</td>\n",
       "      <td>2020-12-21 16:32:59.999974800</td>\n",
       "      <td>2020-12-21 16:31:59.999974800</td>\n",
       "      <td>3</td>\n",
       "      <td>60</td>\n",
       "      <td>2020-12-21 16:31:59.999974800</td>\n",
       "    </tr>\n",
       "  </tbody>\n",
       "</table>\n",
       "</div>"
      ],
      "text/plain": [
       "                        startTimeOffsetInSeconds sleep_type  endTimeInSeconds  \\\n",
       "id_participant_external                                                         \n",
       "108757                                    -21600      awake        1608625680   \n",
       "108757                                    -21600      awake        1608630420   \n",
       "108757                                    -21600      awake        1608630960   \n",
       "943285                                    -18000      awake        1608620220   \n",
       "682052                                    -18000      awake        1608636780   \n",
       "604242                                    -21600      awake        1608551340   \n",
       "604242                                    -21600      awake        1608551520   \n",
       "604242                                    -21600      awake        1608551940   \n",
       "604242                                    -21600      awake        1608552660   \n",
       "056076                                    -25200      awake        1608568380   \n",
       "\n",
       "                         startTimeInSeconds                       endTime  \\\n",
       "id_participant_external                                                     \n",
       "108757                           1608625320 2020-12-22 08:27:59.999978400   \n",
       "108757                           1608630360 2020-12-22 09:46:59.999978400   \n",
       "108757                           1608630540 2020-12-22 09:55:59.999978400   \n",
       "943285                           1608619980 2020-12-22 06:56:59.999982000   \n",
       "682052                           1608636720 2020-12-22 11:32:59.999982000   \n",
       "604242                           1608551280 2020-12-21 11:48:59.999978400   \n",
       "604242                           1608551460 2020-12-21 11:51:59.999978400   \n",
       "604242                           1608551760 2020-12-21 11:58:59.999978400   \n",
       "604242                           1608552600 2020-12-21 12:10:59.999978400   \n",
       "056076                           1608568320 2020-12-21 16:32:59.999974800   \n",
       "\n",
       "                                            startTime  sleep_classic  \\\n",
       "id_participant_external                                                \n",
       "108757                  2020-12-22 08:21:59.999978400              3   \n",
       "108757                  2020-12-22 09:45:59.999978400              3   \n",
       "108757                  2020-12-22 09:48:59.999978400              3   \n",
       "943285                  2020-12-22 06:52:59.999982000              3   \n",
       "682052                  2020-12-22 11:31:59.999982000              3   \n",
       "604242                  2020-12-21 11:47:59.999978400              3   \n",
       "604242                  2020-12-21 11:50:59.999978400              3   \n",
       "604242                  2020-12-21 11:55:59.999978400              3   \n",
       "604242                  2020-12-21 12:09:59.999978400              3   \n",
       "056076                  2020-12-21 16:31:59.999974800              3   \n",
       "\n",
       "                         durationInSeconds                     timestamp  \n",
       "id_participant_external                                                   \n",
       "108757                                 360 2020-12-22 08:21:59.999978400  \n",
       "108757                                  60 2020-12-22 09:45:59.999978400  \n",
       "108757                                 420 2020-12-22 09:48:59.999978400  \n",
       "943285                                 240 2020-12-22 06:52:59.999982000  \n",
       "682052                                  60 2020-12-22 11:31:59.999982000  \n",
       "604242                                  60 2020-12-21 11:47:59.999978400  \n",
       "604242                                  60 2020-12-21 11:50:59.999978400  \n",
       "604242                                 180 2020-12-21 11:55:59.999978400  \n",
       "604242                                  60 2020-12-21 12:09:59.999978400  \n",
       "056076                                  60 2020-12-21 16:31:59.999974800  "
      ]
     },
     "execution_count": 10,
     "metadata": {},
     "output_type": "execute_result"
    }
   ],
   "source": [
    "processed_sleep.head(10)"
   ]
  },
  {
   "cell_type": "code",
   "execution_count": null,
   "metadata": {},
   "outputs": [
    {
     "data": {
      "text/plain": [
       "35328"
      ]
     },
     "execution_count": 17,
     "metadata": {},
     "output_type": "execute_result"
    }
   ],
   "source": [
    "processed_sleep[\"date\"] = processed_sleep[\"endTime\"].dt.date\n",
    "len(processed_sleep.reset_index().drop_duplicates([\"id_participant_external\",\"date\"]))"
   ]
  },
  {
   "cell_type": "code",
   "execution_count": null,
   "metadata": {},
   "outputs": [
    {
     "data": {
      "text/plain": [
       "['id_participant_external',\n",
       " 'startTimeInSeconds',\n",
       " 'startTimeOffsetInSeconds',\n",
       " 'activityType',\n",
       " 'durationInSeconds',\n",
       " 'averageHeartRateInBeatsPerMinute',\n",
       " 'averageRunCadenceInStepsPerMinute',\n",
       " 'averageSpeedInMetersPerSecond',\n",
       " 'averagePaceInMinutesPerKilometer',\n",
       " 'distanceInMeters',\n",
       " 'maxBikeCadenceInRoundsPerMinute',\n",
       " 'maxHeartRateInBeatsPerMinute',\n",
       " 'maxPaceInMinutesPerKilometer',\n",
       " 'maxRunCadenceInStepsPerMinute',\n",
       " 'maxSpeedInMetersPerSecond',\n",
       " 'numberOfActiveLengths',\n",
       " 'steps',\n",
       " 'totalElevationGainInMeters',\n",
       " 'totalElevationLossInMeters']"
      ]
     },
     "execution_count": 40,
     "metadata": {},
     "output_type": "execute_result"
    }
   ],
   "source": [
    "garmin_activity.column_names"
   ]
  },
  {
   "cell_type": "code",
   "execution_count": null,
   "metadata": {},
   "outputs": [
    {
     "data": {
      "text/html": [
       "<div>\n",
       "<style scoped>\n",
       "    .dataframe tbody tr th:only-of-type {\n",
       "        vertical-align: middle;\n",
       "    }\n",
       "\n",
       "    .dataframe tbody tr th {\n",
       "        vertical-align: top;\n",
       "    }\n",
       "\n",
       "    .dataframe thead th {\n",
       "        text-align: right;\n",
       "    }\n",
       "</style>\n",
       "<table border=\"1\" class=\"dataframe\">\n",
       "  <thead>\n",
       "    <tr style=\"text-align: right;\">\n",
       "      <th></th>\n",
       "      <th>startTimeInSeconds</th>\n",
       "      <th>startTimeOffsetInSeconds</th>\n",
       "      <th>averageHeartRateInBeatsPerMinute</th>\n",
       "      <th>durationInSeconds</th>\n",
       "      <th>timestamp</th>\n",
       "    </tr>\n",
       "    <tr>\n",
       "      <th>id_participant_external</th>\n",
       "      <th></th>\n",
       "      <th></th>\n",
       "      <th></th>\n",
       "      <th></th>\n",
       "      <th></th>\n",
       "    </tr>\n",
       "  </thead>\n",
       "  <tbody>\n",
       "    <tr>\n",
       "      <th>139209</th>\n",
       "      <td>1608597574</td>\n",
       "      <td>-18000</td>\n",
       "      <td>134</td>\n",
       "      <td>735</td>\n",
       "      <td>2020-12-21 19:39:34</td>\n",
       "    </tr>\n",
       "    <tr>\n",
       "      <th>760451</th>\n",
       "      <td>1608556071</td>\n",
       "      <td>-21600</td>\n",
       "      <td>99</td>\n",
       "      <td>944</td>\n",
       "      <td>2020-12-21 07:07:51</td>\n",
       "    </tr>\n",
       "    <tr>\n",
       "      <th>139209</th>\n",
       "      <td>1608593758</td>\n",
       "      <td>-18000</td>\n",
       "      <td>107</td>\n",
       "      <td>555</td>\n",
       "      <td>2020-12-21 18:35:58</td>\n",
       "    </tr>\n",
       "    <tr>\n",
       "      <th>403728</th>\n",
       "      <td>1608565909</td>\n",
       "      <td>-21600</td>\n",
       "      <td>112</td>\n",
       "      <td>1934</td>\n",
       "      <td>2020-12-21 09:51:49</td>\n",
       "    </tr>\n",
       "    <tr>\n",
       "      <th>737470</th>\n",
       "      <td>1608546973</td>\n",
       "      <td>-18000</td>\n",
       "      <td>66</td>\n",
       "      <td>610</td>\n",
       "      <td>2020-12-21 05:36:13</td>\n",
       "    </tr>\n",
       "    <tr>\n",
       "      <th>831129</th>\n",
       "      <td>1608578714</td>\n",
       "      <td>-21600</td>\n",
       "      <td>102</td>\n",
       "      <td>1426</td>\n",
       "      <td>2020-12-21 13:25:14</td>\n",
       "    </tr>\n",
       "    <tr>\n",
       "      <th>917852</th>\n",
       "      <td>1608559880</td>\n",
       "      <td>-18000</td>\n",
       "      <td>69</td>\n",
       "      <td>953</td>\n",
       "      <td>2020-12-21 09:11:20</td>\n",
       "    </tr>\n",
       "    <tr>\n",
       "      <th>807214</th>\n",
       "      <td>1608614949</td>\n",
       "      <td>-25200</td>\n",
       "      <td>89</td>\n",
       "      <td>2711</td>\n",
       "      <td>2020-12-21 22:29:09</td>\n",
       "    </tr>\n",
       "    <tr>\n",
       "      <th>480902</th>\n",
       "      <td>1608595236</td>\n",
       "      <td>-21600</td>\n",
       "      <td>100</td>\n",
       "      <td>946</td>\n",
       "      <td>2020-12-21 18:00:36</td>\n",
       "    </tr>\n",
       "    <tr>\n",
       "      <th>350093</th>\n",
       "      <td>1608585841</td>\n",
       "      <td>-18000</td>\n",
       "      <td>101</td>\n",
       "      <td>1546</td>\n",
       "      <td>2020-12-21 16:24:01</td>\n",
       "    </tr>\n",
       "  </tbody>\n",
       "</table>\n",
       "</div>"
      ],
      "text/plain": [
       "                        startTimeInSeconds startTimeOffsetInSeconds  \\\n",
       "id_participant_external                                               \n",
       "139209                          1608597574                   -18000   \n",
       "760451                          1608556071                   -21600   \n",
       "139209                          1608593758                   -18000   \n",
       "403728                          1608565909                   -21600   \n",
       "737470                          1608546973                   -18000   \n",
       "831129                          1608578714                   -21600   \n",
       "917852                          1608559880                   -18000   \n",
       "807214                          1608614949                   -25200   \n",
       "480902                          1608595236                   -21600   \n",
       "350093                          1608585841                   -18000   \n",
       "\n",
       "                        averageHeartRateInBeatsPerMinute  durationInSeconds  \\\n",
       "id_participant_external                                                       \n",
       "139209                                               134                735   \n",
       "760451                                                99                944   \n",
       "139209                                               107                555   \n",
       "403728                                               112               1934   \n",
       "737470                                                66                610   \n",
       "831129                                               102               1426   \n",
       "917852                                                69                953   \n",
       "807214                                                89               2711   \n",
       "480902                                               100                946   \n",
       "350093                                               101               1546   \n",
       "\n",
       "                                  timestamp  \n",
       "id_participant_external                      \n",
       "139209                  2020-12-21 19:39:34  \n",
       "760451                  2020-12-21 07:07:51  \n",
       "139209                  2020-12-21 18:35:58  \n",
       "403728                  2020-12-21 09:51:49  \n",
       "737470                  2020-12-21 05:36:13  \n",
       "831129                  2020-12-21 13:25:14  \n",
       "917852                  2020-12-21 09:11:20  \n",
       "807214                  2020-12-21 22:29:09  \n",
       "480902                  2020-12-21 18:00:36  \n",
       "350093                  2020-12-21 16:24:01  "
      ]
     },
     "execution_count": 21,
     "metadata": {},
     "output_type": "execute_result"
    }
   ],
   "source": [
    "processed_heart_rate = garmin_activity[[\"id_participant_external\",\"startTimeInSeconds\",\"startTimeOffsetInSeconds\",\n",
    "                                        'averageHeartRateInBeatsPerMinute',\"durationInSeconds\"]].to_pandas_df()\n",
    "processed_heart_rate = processed_heart_rate.dropna(subset=[\"durationInSeconds\"])                                        \n",
    "processed_heart_rate[\"timestamp\"] = pd.to_datetime(processed_heart_rate[\"startTimeInSeconds\"],unit=\"s\") +\\\n",
    "                                    pd.to_timedelta(processed_heart_rate[\"startTimeOffsetInSeconds\"].astype(int), unit=\"s\")\n",
    "processed_heart_rate[\"durationInSeconds\"] = processed_heart_rate[\"durationInSeconds\"].astype(int)\n",
    "processed_heart_rate[\"id_participant_external\"] = processed_heart_rate[\"id_participant_external\"].astype(\"category\") \n",
    "processed_heart_rate = processed_heart_rate.dropna().set_index(\"id_participant_external\")\n",
    "processed_heart_rate.head(10)"
   ]
  },
  {
   "cell_type": "code",
   "execution_count": null,
   "metadata": {},
   "outputs": [
    {
     "data": {
      "text/html": [
       "<div>\n",
       "<style scoped>\n",
       "    .dataframe tbody tr th:only-of-type {\n",
       "        vertical-align: middle;\n",
       "    }\n",
       "\n",
       "    .dataframe tbody tr th {\n",
       "        vertical-align: top;\n",
       "    }\n",
       "\n",
       "    .dataframe thead th {\n",
       "        text-align: right;\n",
       "    }\n",
       "</style>\n",
       "<table border=\"1\" class=\"dataframe\">\n",
       "  <thead>\n",
       "    <tr style=\"text-align: right;\">\n",
       "      <th></th>\n",
       "      <th>startTimeInSeconds</th>\n",
       "      <th>startTimeOffsetInSeconds</th>\n",
       "      <th>steps</th>\n",
       "      <th>durationInSeconds</th>\n",
       "      <th>timestamp</th>\n",
       "    </tr>\n",
       "    <tr>\n",
       "      <th>id_participant_external</th>\n",
       "      <th></th>\n",
       "      <th></th>\n",
       "      <th></th>\n",
       "      <th></th>\n",
       "      <th></th>\n",
       "    </tr>\n",
       "  </thead>\n",
       "  <tbody>\n",
       "    <tr>\n",
       "      <th>139209</th>\n",
       "      <td>1608597574</td>\n",
       "      <td>-18000</td>\n",
       "      <td>40</td>\n",
       "      <td>735</td>\n",
       "      <td>2020-12-21 19:39:34</td>\n",
       "    </tr>\n",
       "    <tr>\n",
       "      <th>760451</th>\n",
       "      <td>1608556071</td>\n",
       "      <td>-21600</td>\n",
       "      <td>1704</td>\n",
       "      <td>944</td>\n",
       "      <td>2020-12-21 07:07:51</td>\n",
       "    </tr>\n",
       "    <tr>\n",
       "      <th>403728</th>\n",
       "      <td>1608565909</td>\n",
       "      <td>-21600</td>\n",
       "      <td>10</td>\n",
       "      <td>1934</td>\n",
       "      <td>2020-12-21 09:51:49</td>\n",
       "    </tr>\n",
       "    <tr>\n",
       "      <th>831129</th>\n",
       "      <td>1608578714</td>\n",
       "      <td>-21600</td>\n",
       "      <td>1590</td>\n",
       "      <td>1426</td>\n",
       "      <td>2020-12-21 13:25:14</td>\n",
       "    </tr>\n",
       "    <tr>\n",
       "      <th>917852</th>\n",
       "      <td>1608559880</td>\n",
       "      <td>-18000</td>\n",
       "      <td>86</td>\n",
       "      <td>953</td>\n",
       "      <td>2020-12-21 09:11:20</td>\n",
       "    </tr>\n",
       "    <tr>\n",
       "      <th>480902</th>\n",
       "      <td>1608595236</td>\n",
       "      <td>-21600</td>\n",
       "      <td>1434</td>\n",
       "      <td>946</td>\n",
       "      <td>2020-12-21 18:00:36</td>\n",
       "    </tr>\n",
       "    <tr>\n",
       "      <th>350093</th>\n",
       "      <td>1608585841</td>\n",
       "      <td>-18000</td>\n",
       "      <td>2470</td>\n",
       "      <td>1546</td>\n",
       "      <td>2020-12-21 16:24:01</td>\n",
       "    </tr>\n",
       "    <tr>\n",
       "      <th>861847</th>\n",
       "      <td>1608552241</td>\n",
       "      <td>-18000</td>\n",
       "      <td>1510</td>\n",
       "      <td>813</td>\n",
       "      <td>2020-12-21 07:04:01</td>\n",
       "    </tr>\n",
       "    <tr>\n",
       "      <th>202028</th>\n",
       "      <td>1608583933</td>\n",
       "      <td>-21600</td>\n",
       "      <td>984</td>\n",
       "      <td>778</td>\n",
       "      <td>2020-12-21 14:52:13</td>\n",
       "    </tr>\n",
       "    <tr>\n",
       "      <th>587800</th>\n",
       "      <td>1608534155</td>\n",
       "      <td>-18000</td>\n",
       "      <td>58</td>\n",
       "      <td>98</td>\n",
       "      <td>2020-12-21 02:02:35</td>\n",
       "    </tr>\n",
       "  </tbody>\n",
       "</table>\n",
       "</div>"
      ],
      "text/plain": [
       "                        startTimeInSeconds startTimeOffsetInSeconds steps  \\\n",
       "id_participant_external                                                     \n",
       "139209                          1608597574                   -18000    40   \n",
       "760451                          1608556071                   -21600  1704   \n",
       "403728                          1608565909                   -21600    10   \n",
       "831129                          1608578714                   -21600  1590   \n",
       "917852                          1608559880                   -18000    86   \n",
       "480902                          1608595236                   -21600  1434   \n",
       "350093                          1608585841                   -18000  2470   \n",
       "861847                          1608552241                   -18000  1510   \n",
       "202028                          1608583933                   -21600   984   \n",
       "587800                          1608534155                   -18000    58   \n",
       "\n",
       "                         durationInSeconds           timestamp  \n",
       "id_participant_external                                         \n",
       "139209                                 735 2020-12-21 19:39:34  \n",
       "760451                                 944 2020-12-21 07:07:51  \n",
       "403728                                1934 2020-12-21 09:51:49  \n",
       "831129                                1426 2020-12-21 13:25:14  \n",
       "917852                                 953 2020-12-21 09:11:20  \n",
       "480902                                 946 2020-12-21 18:00:36  \n",
       "350093                                1546 2020-12-21 16:24:01  \n",
       "861847                                 813 2020-12-21 07:04:01  \n",
       "202028                                 778 2020-12-21 14:52:13  \n",
       "587800                                  98 2020-12-21 02:02:35  "
      ]
     },
     "execution_count": 22,
     "metadata": {},
     "output_type": "execute_result"
    }
   ],
   "source": [
    "processed_steps = garmin_activity[[\"id_participant_external\",\"startTimeInSeconds\",\"startTimeOffsetInSeconds\",\n",
    "                                        'steps',\"durationInSeconds\"]].to_pandas_df()\n",
    "processed_steps = processed_steps.dropna(subset=[\"durationInSeconds\"])  \n",
    "processed_steps[\"timestamp\"] = pd.to_datetime(processed_steps[\"startTimeInSeconds\"],unit=\"s\") +\\\n",
    "                                    pd.to_timedelta(processed_steps[\"startTimeOffsetInSeconds\"].astype(int), unit=\"s\")\n",
    "processed_steps[\"durationInSeconds\"] = processed_steps[\"durationInSeconds\"].astype(int)\n",
    "processed_steps[\"id_participant_external\"] = processed_steps[\"id_participant_external\"].astype(\"category\")\n",
    "processed_steps = processed_steps.dropna().set_index(\"id_participant_external\")\n",
    "processed_steps.head(10)"
   ]
  },
  {
   "cell_type": "code",
   "execution_count": null,
   "metadata": {},
   "outputs": [],
   "source": [
    "from src.data.make_dataset import explode_str_column, get_new_index, safe_loc\n",
    "from src.data.utils import  process_minute_level_pandas\n",
    "from tqdm import tqdm"
   ]
  },
  {
   "cell_type": "code",
   "execution_count": 28,
   "metadata": {},
   "outputs": [
    {
     "name": "stderr",
     "output_type": "stream",
     "text": [
      "  0%|          | 0/505 [00:00<?, ?it/s]/homes/gws/mikeam/MobileSensingSuite/src/data/make_dataset.py:81: FutureWarning: Argument `closed` is deprecated in favor of `inclusive`.\n",
      "  new_index = pd.date_range(start_ts,end_ts,freq=freq,closed=\"left\").values\n"
     ]
    }
   ],
   "source": [
    "processed_out_path = \"/projects/bdata/datasets/gatesfoundation/processed/COVID_Signals/garmin_minute_level_activity_two\"\n",
    "users_with_steps = processed_steps.index.unique()\n",
    "all_results = []\n",
    "\n",
    "for user in tqdm(users_with_steps.values):\n",
    "    exploded_sleep = explode_str_column(safe_loc(processed_sleep,user),\n",
    "                                target_col = \"sleep_classic\",\n",
    "                                # rename_target_column=\"sleep_classic\",\n",
    "                                start_col=\"startTime\",\n",
    "                                dur_col = \"durationInSeconds\",\n",
    "                                single_val=True,\n",
    "                                dtype=pd.Int8Dtype())\n",
    "    exploded_hr =  explode_str_column(safe_loc(processed_heart_rate,user),\n",
    "                                        target_col = \"averageHeartRateInBeatsPerMinute\",\n",
    "                                        rename_target_column=\"heart_rate\",\n",
    "                                        start_col=\"timestamp\",\n",
    "                                        single_val=True,\n",
    "                                        dur_col = \"durationInSeconds\",\n",
    "                                        dtype=pd.Int8Dtype())\n",
    "    exploded_steps = explode_str_column(safe_loc(processed_steps,user),\n",
    "                                        target_col = \"steps\",\n",
    "                                        # rename_target_column=\"averageHeartRateInBeatsPerMinute\",\n",
    "                                        start_col=\"timestamp\",\n",
    "                                        single_val=True,\n",
    "                                        dur_col = \"durationInSeconds\",\n",
    "                                        dtype=pd.Int8Dtype())\n",
    "    steps_and_hr = exploded_steps.join(exploded_hr,how = \"left\") \n",
    "    merged = steps_and_hr.join(exploded_sleep,how=\"left\")                        \n",
    "\n",
    "    \n",
    "    processed = process_minute_level_pandas(minute_level_df = merged)\n",
    "\n",
    "    # Keep datatypes in check\n",
    "    processed[\"heart_rate\"] = processed[\"heart_rate\"].astype(pd.Int16Dtype())\n",
    "    processed[\"participant_id\"] = user\n",
    "    all_results.append(processed)\n",
    "\n",
    "all_results = pd.concat(all_results)\n",
    "all_results[\"sleep_classic_0\"] = all_results[\"sleep_classic_0\"].fillna(False)\n",
    "all_results[\"sleep_classic_1\"] = all_results[\"sleep_classic_1\"].fillna(False)\n",
    "all_results[\"sleep_classic_2\"] = all_results[\"sleep_classic_2\"].fillna(False)\n",
    "all_results[\"sleep_classic_3\"] = all_results[\"sleep_classic_3\"].fillna(False)\n",
    "\n",
    "all_results.to_parquet(path = processed_out_path, partition_cols=[\"date\"], engine=\"fastparquet\")"
   ]
  },
  {
   "cell_type": "code",
   "execution_count": 1,
   "metadata": {},
   "outputs": [
    {
     "ename": "NameError",
     "evalue": "name 'processed_heart_rate' is not defined",
     "output_type": "error",
     "traceback": [
      "\u001b[0;31m---------------------------------------------------------------------------\u001b[0m",
      "\u001b[0;31mNameError\u001b[0m                                 Traceback (most recent call last)",
      "\u001b[1;32m/homes/gws/mikeam/MobileSensingSuite/notebooks/EDA/CovidSignalsEDA.ipynb Cell 38'\u001b[0m in \u001b[0;36m<cell line: 1>\u001b[0;34m()\u001b[0m\n\u001b[0;32m----> <a href='vscode-notebook-cell://ssh-remote%2Bdarkwing.cs.washington.edu/homes/gws/mikeam/MobileSensingSuite/notebooks/EDA/CovidSignalsEDA.ipynb#ch0000037vscode-remote?line=0'>1</a>\u001b[0m processed_heart_rate\u001b[39m.\u001b[39mdtypes\n",
      "\u001b[0;31mNameError\u001b[0m: name 'processed_heart_rate' is not defined"
     ]
    }
   ],
   "source": [
    "processed_heart_rate.dtypes"
   ]
  },
  {
   "cell_type": "code",
   "execution_count": null,
   "metadata": {},
   "outputs": [
    {
     "data": {
      "text/plain": [
       "Timestamp('2021-01-23 07:51:59.999978496')"
      ]
     },
     "execution_count": 52,
     "metadata": {},
     "output_type": "execute_result"
    }
   ],
   "source": [
    "processed_sleep[\"timestamp\"].median()"
   ]
  },
  {
   "cell_type": "code",
   "execution_count": null,
   "metadata": {},
   "outputs": [],
   "source": []
  }
 ],
 "metadata": {
  "interpreter": {
   "hash": "029f92c484089452a607930c2c92d78a98e0dcb38ca022933676531bd9e74af3"
  },
  "kernelspec": {
   "display_name": "Python 3.9.10 ('MobileSensingSuite')",
   "language": "python",
   "name": "python3"
  },
  "language_info": {
   "codemirror_mode": {
    "name": "ipython",
    "version": 3
   },
   "file_extension": ".py",
   "mimetype": "text/x-python",
   "name": "python",
   "nbconvert_exporter": "python",
   "pygments_lexer": "ipython3",
   "version": "3.9.10"
  },
  "orig_nbformat": 4
 },
 "nbformat": 4,
 "nbformat_minor": 2
}
